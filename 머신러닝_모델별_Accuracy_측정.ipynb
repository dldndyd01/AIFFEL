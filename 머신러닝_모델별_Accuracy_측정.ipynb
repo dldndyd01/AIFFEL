{
  "nbformat": 4,
  "nbformat_minor": 0,
  "metadata": {
    "colab": {
      "name": "모델별 Accuracy 측정",
      "provenance": [],
      "authorship_tag": "ABX9TyMUrCyvN/UhJiNxB+w1qta1",
      "include_colab_link": true
    },
    "kernelspec": {
      "name": "python3",
      "display_name": "Python 3"
    },
    "language_info": {
      "name": "python"
    }
  },
  "cells": [
    {
      "cell_type": "markdown",
      "metadata": {
        "id": "view-in-github",
        "colab_type": "text"
      },
      "source": [
        "<a href=\"https://colab.research.google.com/github/dldndyd01/AIFFEL/blob/master/%EB%A8%B8%EC%8B%A0%EB%9F%AC%EB%8B%9D_%EB%AA%A8%EB%8D%B8%EB%B3%84_Accuracy_%EC%B8%A1%EC%A0%95.ipynb\" target=\"_parent\"><img src=\"https://colab.research.google.com/assets/colab-badge.svg\" alt=\"Open In Colab\"/></a>"
      ]
    },
    {
      "cell_type": "code",
      "metadata": {
        "id": "EkPO-I3rfqjf"
      },
      "source": [
        "from sklearn.datasets import load_digits\n",
        "from sklearn.datasets import load_wine\n",
        "from sklearn.datasets import load_breast_cancer\n",
        "\n",
        "from sklearn.tree import DecisionTreeClassifier # Import Decision Tree Classifier\n",
        "from sklearn.ensemble import RandomForestClassifier\n",
        "from sklearn import svm\n",
        "from sklearn.linear_model import SGDClassifier\n",
        "from sklearn.linear_model import LogisticRegression\n",
        "\n",
        "from sklearn.model_selection import train_test_split\n",
        "from sklearn.metrics import classification_report\n",
        "import pandas as pd\n",
        "from sklearn import metrics"
      ],
      "execution_count": 34,
      "outputs": []
    },
    {
      "cell_type": "markdown",
      "metadata": {
        "id": "jHaVa24liwh7"
      },
      "source": [
        "### Digits"
      ]
    },
    {
      "cell_type": "code",
      "metadata": {
        "colab": {
          "base_uri": "https://localhost:8080/"
        },
        "id": "Xtea4maJfwee",
        "outputId": "760d44d3-9b82-4578-8dc4-b45280657787"
      },
      "source": [
        "digits = load_digits()\n",
        "X = digits.data\n",
        "Y = digits.target\n",
        "X_train, X_test, y_train, y_test = train_test_split(X, Y, test_size=0.2, random_state=15)\n",
        "\n",
        "# decision tree\n",
        "decision_tree = DecisionTreeClassifier(random_state=32)\n",
        "decision_tree = decision_tree.fit(X_train,y_train)\n",
        "y_pred_decision_tree = decision_tree.predict(X_test)\n",
        "# random forest\n",
        "random_forest = RandomForestClassifier(random_state = 32)\n",
        "random_forest = random_forest.fit(X_train,y_train)\n",
        "y_pred_random_forest = random_forest.predict(X_test)\n",
        "# svm\n",
        "support_vector_machine = svm.SVC()\n",
        "support_vector_machine = support_vector_machine.fit(X_train,y_train)\n",
        "y_pred_support_vector_machine = support_vector_machine.predict(X_test)\n",
        "# SGDClassifier\n",
        "SGD = SGDClassifier(random_state = 32)\n",
        "SGD = SGD.fit(X_train,y_train)\n",
        "y_pred_SGD = SGD.predict(X_test)\n",
        "# LogisticRegression\n",
        "Logistic_regresiion = LogisticRegression(random_state = 32)\n",
        "Logistic_regresiion = Logistic_regresiion.fit(X_train,y_train)\n",
        "y_pred_Logistic_regresiion = Logistic_regresiion.predict(X_test)\n",
        "\n",
        "print(\"손글씨\")\n",
        "print(\"Decision tree       --> \",\"Accuracy:\",metrics.accuracy_score(y_test, y_pred_decision_tree))\n",
        "print(\"Random Freset       --> \",\"Accuracy:\",metrics.accuracy_score(y_test, y_pred_random_forest))\n",
        "print(\"SVM                 --> \",\"Accuracy:\",metrics.accuracy_score(y_test, y_pred_support_vector_machine))\n",
        "print(\"SGD                 --> \",\"Accuracy:\",metrics.accuracy_score(y_test, y_pred_SGD))\n",
        "print(\"Logistic regression --> \",\"Accuracy:\",metrics.accuracy_score(y_test, y_pred_Logistic_regresiion))\n",
        "print()\n",
        "\n"
      ],
      "execution_count": 43,
      "outputs": [
        {
          "output_type": "stream",
          "text": [
            "손글씨\n",
            "Decision tree       -->  Accuracy: 0.85\n",
            "Random Freset       -->  Accuracy: 0.9722222222222222\n",
            "SVM                 -->  Accuracy: 0.9888888888888889\n",
            "SGD                 -->  Accuracy: 0.9555555555555556\n",
            "Logistic regression -->  Accuracy: 0.9638888888888889\n",
            "\n"
          ],
          "name": "stdout"
        },
        {
          "output_type": "stream",
          "text": [
            "/usr/local/lib/python3.7/dist-packages/sklearn/linear_model/_logistic.py:940: ConvergenceWarning: lbfgs failed to converge (status=1):\n",
            "STOP: TOTAL NO. of ITERATIONS REACHED LIMIT.\n",
            "\n",
            "Increase the number of iterations (max_iter) or scale the data as shown in:\n",
            "    https://scikit-learn.org/stable/modules/preprocessing.html\n",
            "Please also refer to the documentation for alternative solver options:\n",
            "    https://scikit-learn.org/stable/modules/linear_model.html#logistic-regression\n",
            "  extra_warning_msg=_LOGISTIC_SOLVER_CONVERGENCE_MSG)\n"
          ],
          "name": "stderr"
        }
      ]
    },
    {
      "cell_type": "markdown",
      "metadata": {
        "id": "-rMAsPnli0CR"
      },
      "source": [
        "## Wine"
      ]
    },
    {
      "cell_type": "code",
      "metadata": {
        "colab": {
          "base_uri": "https://localhost:8080/"
        },
        "id": "ZNRnOrNigBHj",
        "outputId": "1cde0955-c515-494b-d248-3c7dcb840d4d"
      },
      "source": [
        "digits = load_wine()\n",
        "X = digits.data\n",
        "Y = digits.target\n",
        "X_train, X_test, y_train, y_test = train_test_split(X, Y, test_size=0.2, random_state=15)\n",
        "\n",
        "# decision tree\n",
        "decision_tree = DecisionTreeClassifier(random_state=32)\n",
        "decision_tree = decision_tree.fit(X_train,y_train)\n",
        "y_pred_decision_tree = decision_tree.predict(X_test)\n",
        "# random forest\n",
        "random_forest = RandomForestClassifier(random_state = 32)\n",
        "random_forest = random_forest.fit(X_train,y_train)\n",
        "y_pred_random_forest = random_forest.predict(X_test)\n",
        "# svm\n",
        "support_vector_machine = svm.SVC()\n",
        "support_vector_machine = support_vector_machine.fit(X_train,y_train)\n",
        "y_pred_support_vector_machine = support_vector_machine.predict(X_test)\n",
        "# SGDClassifier\n",
        "SGD = SGDClassifier(random_state = 32)\n",
        "SGD = SGD.fit(X_train,y_train)\n",
        "y_pred_SGD = SGD.predict(X_test)\n",
        "# LogisticRegression\n",
        "Logistic_regresiion = LogisticRegression(random_state = 32)\n",
        "Logistic_regresiion = Logistic_regresiion.fit(X_train,y_train)\n",
        "y_pred_Logistic_regresiion = Logistic_regresiion.predict(X_test)\n",
        "\n",
        "print(\"와인\")\n",
        "print(\"Decision tree       --> \",\"Accuracy:\",metrics.accuracy_score(y_test, y_pred_decision_tree))\n",
        "print(\"Random Freset       --> \",\"Accuracy:\",metrics.accuracy_score(y_test, y_pred_random_forest))\n",
        "print(\"SVM                 --> \",\"Accuracy:\",metrics.accuracy_score(y_test, y_pred_support_vector_machine))\n",
        "print(\"SGD                 --> \",\"Accuracy:\",metrics.accuracy_score(y_test, y_pred_SGD))\n",
        "print(\"Logistic regression --> \",\"Accuracy:\",metrics.accuracy_score(y_test, y_pred_Logistic_regresiion))\n",
        "print()\n",
        "\n"
      ],
      "execution_count": 39,
      "outputs": [
        {
          "output_type": "stream",
          "text": [
            "와인\n",
            "Decision tree       -->  Accuracy: 0.9166666666666666\n",
            "Random Freset       -->  Accuracy: 1.0\n",
            "SVM                 -->  Accuracy: 0.6111111111111112\n",
            "SGD                 -->  Accuracy: 0.75\n",
            "Logistic regression -->  Accuracy: 0.9444444444444444\n",
            "\n"
          ],
          "name": "stdout"
        },
        {
          "output_type": "stream",
          "text": [
            "/usr/local/lib/python3.7/dist-packages/sklearn/linear_model/_logistic.py:940: ConvergenceWarning: lbfgs failed to converge (status=1):\n",
            "STOP: TOTAL NO. of ITERATIONS REACHED LIMIT.\n",
            "\n",
            "Increase the number of iterations (max_iter) or scale the data as shown in:\n",
            "    https://scikit-learn.org/stable/modules/preprocessing.html\n",
            "Please also refer to the documentation for alternative solver options:\n",
            "    https://scikit-learn.org/stable/modules/linear_model.html#logistic-regression\n",
            "  extra_warning_msg=_LOGISTIC_SOLVER_CONVERGENCE_MSG)\n"
          ],
          "name": "stderr"
        }
      ]
    },
    {
      "cell_type": "code",
      "metadata": {
        "colab": {
          "base_uri": "https://localhost:8080/"
        },
        "id": "ac11yOAJi5fy",
        "outputId": "be6729d7-bd78-4bf2-a68e-6a7e82818d71"
      },
      "source": [
        "digits = load_breast_cancer()\n",
        "X = digits.data\n",
        "Y = digits.target\n",
        "X_train, X_test, y_train, y_test = train_test_split(X, Y, test_size=0.2, random_state=15)\n",
        "\n",
        "# decision tree\n",
        "decision_tree = DecisionTreeClassifier(random_state=32)\n",
        "decision_tree = decision_tree.fit(X_train,y_train)\n",
        "y_pred_decision_tree = decision_tree.predict(X_test)\n",
        "# random forest\n",
        "random_forest = RandomForestClassifier(random_state = 32)\n",
        "random_forest = random_forest.fit(X_train,y_train)\n",
        "y_pred_random_forest = random_forest.predict(X_test)\n",
        "# svm\n",
        "support_vector_machine = svm.SVC()\n",
        "support_vector_machine = support_vector_machine.fit(X_train,y_train)\n",
        "y_pred_support_vector_machine = support_vector_machine.predict(X_test)\n",
        "# SGDClassifier\n",
        "SGD = SGDClassifier(random_state = 32)\n",
        "SGD = SGD.fit(X_train,y_train)\n",
        "y_pred_SGD = SGD.predict(X_test)\n",
        "# LogisticRegression\n",
        "Logistic_regresiion = LogisticRegression(random_state = 32)\n",
        "Logistic_regresiion = Logistic_regresiion.fit(X_train,y_train)\n",
        "y_pred_Logistic_regresiion = Logistic_regresiion.predict(X_test)\n",
        "\n",
        "print(\"유방암\")\n",
        "print(\"Decision tree       --> \",\"Accuracy:\",metrics.accuracy_score(y_test, y_pred_decision_tree))\n",
        "print(\"Random Freset       --> \",\"Accuracy:\",metrics.accuracy_score(y_test, y_pred_random_forest))\n",
        "print(\"SVM                 --> \",\"Accuracy:\",metrics.accuracy_score(y_test, y_pred_support_vector_machine))\n",
        "print(\"SGD                 --> \",\"Accuracy:\",metrics.accuracy_score(y_test, y_pred_SGD))\n",
        "print(\"Logistic regression --> \",\"Accuracy:\",metrics.accuracy_score(y_test, y_pred_Logistic_regresiion))\n",
        "print()\n",
        "\n"
      ],
      "execution_count": 41,
      "outputs": [
        {
          "output_type": "stream",
          "text": [
            "유방암\n",
            "Decision tree       -->  Accuracy: 0.9473684210526315\n",
            "Random Freset       -->  Accuracy: 0.9385964912280702\n",
            "SVM                 -->  Accuracy: 0.868421052631579\n",
            "SGD                 -->  Accuracy: 0.8421052631578947\n",
            "Logistic regression -->  Accuracy: 0.8947368421052632\n",
            "\n"
          ],
          "name": "stdout"
        },
        {
          "output_type": "stream",
          "text": [
            "/usr/local/lib/python3.7/dist-packages/sklearn/linear_model/_logistic.py:940: ConvergenceWarning: lbfgs failed to converge (status=1):\n",
            "STOP: TOTAL NO. of ITERATIONS REACHED LIMIT.\n",
            "\n",
            "Increase the number of iterations (max_iter) or scale the data as shown in:\n",
            "    https://scikit-learn.org/stable/modules/preprocessing.html\n",
            "Please also refer to the documentation for alternative solver options:\n",
            "    https://scikit-learn.org/stable/modules/linear_model.html#logistic-regression\n",
            "  extra_warning_msg=_LOGISTIC_SOLVER_CONVERGENCE_MSG)\n"
          ],
          "name": "stderr"
        }
      ]
    },
    {
      "cell_type": "code",
      "metadata": {
        "id": "mcswly5vkFsq"
      },
      "source": [
        ""
      ],
      "execution_count": null,
      "outputs": []
    }
  ]
}