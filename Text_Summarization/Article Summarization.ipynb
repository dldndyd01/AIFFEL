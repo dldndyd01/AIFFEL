{
 "cells": [
  {
   "cell_type": "code",
   "execution_count": 86,
   "id": "sonic-daughter",
   "metadata": {},
   "outputs": [
    {
     "name": "stdout",
     "output_type": "stream",
     "text": [
      "=3\n"
     ]
    },
    {
     "name": "stderr",
     "output_type": "stream",
     "text": [
      "[nltk_data] Downloading package stopwords to /aiffel/nltk_data...\n",
      "[nltk_data]   Package stopwords is already up-to-date!\n"
     ]
    }
   ],
   "source": [
    "import nltk\n",
    "nltk.download('stopwords')\n",
    "\n",
    "import numpy as np\n",
    "import pandas as pd\n",
    "import os\n",
    "import re\n",
    "import matplotlib.pyplot as plt\n",
    "from nltk.corpus import stopwords\n",
    "from bs4 import BeautifulSoup \n",
    "from tensorflow.keras.preprocessing.text import Tokenizer\n",
    "from tensorflow.keras.preprocessing.sequence import pad_sequences\n",
    "import urllib.request\n",
    "\n",
    "print('=3')"
   ]
  },
  {
   "cell_type": "markdown",
   "id": "advised-hungarian",
   "metadata": {},
   "source": [
    "# 데이터 불러오기\n",
    "- News_Summary 데이터 불러오기"
   ]
  },
  {
   "cell_type": "code",
   "execution_count": 87,
   "id": "legendary-surgeon",
   "metadata": {},
   "outputs": [],
   "source": [
    "import urllib.request\n",
    "urllib.request.urlretrieve(\"https://raw.githubusercontent.com/sunnysai12345/News_Summary/master/news_summary_more.csv\", filename=\"news_summary_more.csv\")\n",
    "data = pd.read_csv('news_summary_more.csv', encoding='iso-8859-1')"
   ]
  },
  {
   "cell_type": "markdown",
   "id": "certified-necessity",
   "metadata": {},
   "source": [
    "# 데이터 전처리"
   ]
  },
  {
   "cell_type": "code",
   "execution_count": 88,
   "id": "sudden-terror",
   "metadata": {},
   "outputs": [
    {
     "data": {
      "text/html": [
       "<div>\n",
       "<style scoped>\n",
       "    .dataframe tbody tr th:only-of-type {\n",
       "        vertical-align: middle;\n",
       "    }\n",
       "\n",
       "    .dataframe tbody tr th {\n",
       "        vertical-align: top;\n",
       "    }\n",
       "\n",
       "    .dataframe thead th {\n",
       "        text-align: right;\n",
       "    }\n",
       "</style>\n",
       "<table border=\"1\" class=\"dataframe\">\n",
       "  <thead>\n",
       "    <tr style=\"text-align: right;\">\n",
       "      <th></th>\n",
       "      <th>headlines</th>\n",
       "      <th>text</th>\n",
       "    </tr>\n",
       "  </thead>\n",
       "  <tbody>\n",
       "    <tr>\n",
       "      <th>0</th>\n",
       "      <td>upGrad learner switches to career in ML &amp; Al w...</td>\n",
       "      <td>Saurav Kant, an alumnus of upGrad and IIIT-B's...</td>\n",
       "    </tr>\n",
       "    <tr>\n",
       "      <th>1</th>\n",
       "      <td>Delhi techie wins free food from Swiggy for on...</td>\n",
       "      <td>Kunal Shah's credit card bill payment platform...</td>\n",
       "    </tr>\n",
       "    <tr>\n",
       "      <th>2</th>\n",
       "      <td>New Zealand end Rohit Sharma-led India's 12-ma...</td>\n",
       "      <td>New Zealand defeated India by 8 wickets in the...</td>\n",
       "    </tr>\n",
       "    <tr>\n",
       "      <th>3</th>\n",
       "      <td>Aegon life iTerm insurance plan helps customer...</td>\n",
       "      <td>With Aegon Life iTerm Insurance plan, customer...</td>\n",
       "    </tr>\n",
       "    <tr>\n",
       "      <th>4</th>\n",
       "      <td>Have known Hirani for yrs, what if MeToo claim...</td>\n",
       "      <td>Speaking about the sexual harassment allegatio...</td>\n",
       "    </tr>\n",
       "  </tbody>\n",
       "</table>\n",
       "</div>"
      ],
      "text/plain": [
       "                                           headlines  \\\n",
       "0  upGrad learner switches to career in ML & Al w...   \n",
       "1  Delhi techie wins free food from Swiggy for on...   \n",
       "2  New Zealand end Rohit Sharma-led India's 12-ma...   \n",
       "3  Aegon life iTerm insurance plan helps customer...   \n",
       "4  Have known Hirani for yrs, what if MeToo claim...   \n",
       "\n",
       "                                                text  \n",
       "0  Saurav Kant, an alumnus of upGrad and IIIT-B's...  \n",
       "1  Kunal Shah's credit card bill payment platform...  \n",
       "2  New Zealand defeated India by 8 wickets in the...  \n",
       "3  With Aegon Life iTerm Insurance plan, customer...  \n",
       "4  Speaking about the sexual harassment allegatio...  "
      ]
     },
     "execution_count": 88,
     "metadata": {},
     "output_type": "execute_result"
    }
   ],
   "source": [
    "data.head()"
   ]
  },
  {
   "cell_type": "markdown",
   "id": "dimensional-joshua",
   "metadata": {},
   "source": [
    "* 데이터 설명\n",
    "    - 헤드라인과 본문으로 이루어져있음\n",
    "    - 헤드라인 = Summary로 보고 text = Text로 진행"
   ]
  },
  {
   "cell_type": "code",
   "execution_count": 89,
   "id": "general-sleeping",
   "metadata": {},
   "outputs": [
    {
     "data": {
      "text/html": [
       "<div>\n",
       "<style scoped>\n",
       "    .dataframe tbody tr th:only-of-type {\n",
       "        vertical-align: middle;\n",
       "    }\n",
       "\n",
       "    .dataframe tbody tr th {\n",
       "        vertical-align: top;\n",
       "    }\n",
       "\n",
       "    .dataframe thead th {\n",
       "        text-align: right;\n",
       "    }\n",
       "</style>\n",
       "<table border=\"1\" class=\"dataframe\">\n",
       "  <thead>\n",
       "    <tr style=\"text-align: right;\">\n",
       "      <th></th>\n",
       "      <th>Text</th>\n",
       "      <th>Summary</th>\n",
       "    </tr>\n",
       "  </thead>\n",
       "  <tbody>\n",
       "    <tr>\n",
       "      <th>28028</th>\n",
       "      <td>A section of fans threw eggs and cushions at t...</td>\n",
       "      <td>Eggs, cushions thrown at S Korean squad upon r...</td>\n",
       "    </tr>\n",
       "    <tr>\n",
       "      <th>37618</th>\n",
       "      <td>Filmmaker Vishal Bhardwaj has said that he wan...</td>\n",
       "      <td>Want Priyanka in my film based on play Twelfth...</td>\n",
       "    </tr>\n",
       "    <tr>\n",
       "      <th>77261</th>\n",
       "      <td>Sukhbir Singh, a 33-year-old Singaporean Sikh ...</td>\n",
       "      <td>Sikh referee racially abused while officiating...</td>\n",
       "    </tr>\n",
       "    <tr>\n",
       "      <th>24882</th>\n",
       "      <td>A day after government slashed the GST rates o...</td>\n",
       "      <td>Govt cut GST rates with eye on assembly polls:...</td>\n",
       "    </tr>\n",
       "    <tr>\n",
       "      <th>96931</th>\n",
       "      <td>Comedian Kiku Sharda, who plays 'Bumper' on 'T...</td>\n",
       "      <td>Kapil said nothing to me, I'm still part of th...</td>\n",
       "    </tr>\n",
       "    <tr>\n",
       "      <th>76312</th>\n",
       "      <td>A study of 128 brain regions involving over 26...</td>\n",
       "      <td>Women have more active brains than men: Study</td>\n",
       "    </tr>\n",
       "    <tr>\n",
       "      <th>58030</th>\n",
       "      <td>Colombian weightlifter Edwin Mosquera Roa was ...</td>\n",
       "      <td>Colombian Olympic lifter shot dead after argum...</td>\n",
       "    </tr>\n",
       "    <tr>\n",
       "      <th>87285</th>\n",
       "      <td>Filmmaker Karan Johar, while speaking about th...</td>\n",
       "      <td>Baahubali director is now India's biggest supe...</td>\n",
       "    </tr>\n",
       "    <tr>\n",
       "      <th>46237</th>\n",
       "      <td>Boxing legend Muhammad Ali, who was then known...</td>\n",
       "      <td>Ali was first crowned heavyweight world champi...</td>\n",
       "    </tr>\n",
       "    <tr>\n",
       "      <th>21231</th>\n",
       "      <td>A 52-year-old man named Yogesh Kumar, who clai...</td>\n",
       "      <td>Man who met late PM Vajpayee in 1984 travels 5...</td>\n",
       "    </tr>\n",
       "    <tr>\n",
       "      <th>25746</th>\n",
       "      <td>The family of a 32-year-old software engineer ...</td>\n",
       "      <td>Even animals are better: Family of Hyderabad l...</td>\n",
       "    </tr>\n",
       "    <tr>\n",
       "      <th>5152</th>\n",
       "      <td>Shiv Sena said Naseeruddin Shah should move to...</td>\n",
       "      <td>Naseeruddin should go to Pak if dissatisfied i...</td>\n",
       "    </tr>\n",
       "    <tr>\n",
       "      <th>79269</th>\n",
       "      <td>The Central Bureau of Investigation (CBI) form...</td>\n",
       "      <td>CBI forms team to investigate Shimla rape case</td>\n",
       "    </tr>\n",
       "    <tr>\n",
       "      <th>40835</th>\n",
       "      <td>The Brihanmumbai Municipal Corporation (BMC) h...</td>\n",
       "      <td>Mumbai civic body gets record Ã¢ÂÂ¹5k cr as p...</td>\n",
       "    </tr>\n",
       "    <tr>\n",
       "      <th>10557</th>\n",
       "      <td>Textile company Interloop, which makes socks f...</td>\n",
       "      <td>Nike sock supplier plans Pakistan's biggest pr...</td>\n",
       "    </tr>\n",
       "  </tbody>\n",
       "</table>\n",
       "</div>"
      ],
      "text/plain": [
       "                                                    Text  \\\n",
       "28028  A section of fans threw eggs and cushions at t...   \n",
       "37618  Filmmaker Vishal Bhardwaj has said that he wan...   \n",
       "77261  Sukhbir Singh, a 33-year-old Singaporean Sikh ...   \n",
       "24882  A day after government slashed the GST rates o...   \n",
       "96931  Comedian Kiku Sharda, who plays 'Bumper' on 'T...   \n",
       "76312  A study of 128 brain regions involving over 26...   \n",
       "58030  Colombian weightlifter Edwin Mosquera Roa was ...   \n",
       "87285  Filmmaker Karan Johar, while speaking about th...   \n",
       "46237  Boxing legend Muhammad Ali, who was then known...   \n",
       "21231  A 52-year-old man named Yogesh Kumar, who clai...   \n",
       "25746  The family of a 32-year-old software engineer ...   \n",
       "5152   Shiv Sena said Naseeruddin Shah should move to...   \n",
       "79269  The Central Bureau of Investigation (CBI) form...   \n",
       "40835  The Brihanmumbai Municipal Corporation (BMC) h...   \n",
       "10557  Textile company Interloop, which makes socks f...   \n",
       "\n",
       "                                                 Summary  \n",
       "28028  Eggs, cushions thrown at S Korean squad upon r...  \n",
       "37618  Want Priyanka in my film based on play Twelfth...  \n",
       "77261  Sikh referee racially abused while officiating...  \n",
       "24882  Govt cut GST rates with eye on assembly polls:...  \n",
       "96931  Kapil said nothing to me, I'm still part of th...  \n",
       "76312      Women have more active brains than men: Study  \n",
       "58030  Colombian Olympic lifter shot dead after argum...  \n",
       "87285  Baahubali director is now India's biggest supe...  \n",
       "46237  Ali was first crowned heavyweight world champi...  \n",
       "21231  Man who met late PM Vajpayee in 1984 travels 5...  \n",
       "25746  Even animals are better: Family of Hyderabad l...  \n",
       "5152   Naseeruddin should go to Pak if dissatisfied i...  \n",
       "79269     CBI forms team to investigate Shimla rape case  \n",
       "40835  Mumbai civic body gets record Ã¢ÂÂ¹5k cr as p...  \n",
       "10557  Nike sock supplier plans Pakistan's biggest pr...  "
      ]
     },
     "execution_count": 89,
     "metadata": {},
     "output_type": "execute_result"
    }
   ],
   "source": [
    "data = data[['text','headlines']]\n",
    "data.rename(columns  = {'text': 'Text'}, inplace = True)\n",
    "data.rename(columns  = {'headlines': 'Summary'}, inplace = True)\n",
    "\n",
    "data.head()\n",
    "\n",
    "\n",
    "#랜덤한 15개 샘플 출력\n",
    "data.sample(15)"
   ]
  },
  {
   "cell_type": "code",
   "execution_count": 90,
   "id": "respective-wonder",
   "metadata": {},
   "outputs": [
    {
     "name": "stdout",
     "output_type": "stream",
     "text": [
      "Text 열에서 중복을 배제한 유일한 샘플의 수 : 98360\n",
      "Summary 열에서 중복을 배제한 유일한 샘플의 수 : 98280\n"
     ]
    }
   ],
   "source": [
    "print('Text 열에서 중복을 배제한 유일한 샘플의 수 :', data['Text'].nunique())\n",
    "print('Summary 열에서 중복을 배제한 유일한 샘플의 수 :', data['Summary'].nunique())"
   ]
  },
  {
   "cell_type": "code",
   "execution_count": 91,
   "id": "impressed-cattle",
   "metadata": {},
   "outputs": [
    {
     "name": "stdout",
     "output_type": "stream",
     "text": [
      "전체 샘플수 : 98360\n"
     ]
    }
   ],
   "source": [
    "# inplace=True 를 설정하면 DataFrame 타입 값을 return 하지 않고 data 내부를 직접적으로 바꿉니다\n",
    "data.drop_duplicates(subset = ['Text'], inplace=True)\n",
    "print('전체 샘플수 :', (len(data)))"
   ]
  },
  {
   "cell_type": "markdown",
   "id": "breeding-breathing",
   "metadata": {},
   "source": [
    "### 중복값을 제거했지만 Null 값이 있을 수도 있으니 dropna로 확실하게 처리(axis=0 --> 해당 행 삭제)"
   ]
  },
  {
   "cell_type": "code",
   "execution_count": 92,
   "id": "starting-adrian",
   "metadata": {},
   "outputs": [
    {
     "name": "stdout",
     "output_type": "stream",
     "text": [
      "전체 샘플수 : 98360\n"
     ]
    }
   ],
   "source": [
    "data.dropna(axis=0, inplace=True)\n",
    "print('전체 샘플수 :', (len(data)))"
   ]
  },
  {
   "cell_type": "markdown",
   "id": "sunrise-enemy",
   "metadata": {},
   "source": [
    "* null값을 가지는 행은 없었나보다"
   ]
  },
  {
   "cell_type": "code",
   "execution_count": 93,
   "id": "outer-fiber",
   "metadata": {},
   "outputs": [
    {
     "name": "stdout",
     "output_type": "stream",
     "text": [
      "정규화 사전의 수:  120\n"
     ]
    }
   ],
   "source": [
    "contractions = {\"ain't\": \"is not\", \"aren't\": \"are not\",\"can't\": \"cannot\", \"'cause\": \"because\", \"could've\": \"could have\", \"couldn't\": \"could not\",\n",
    "                           \"didn't\": \"did not\",  \"doesn't\": \"does not\", \"don't\": \"do not\", \"hadn't\": \"had not\", \"hasn't\": \"has not\", \"haven't\": \"have not\",\n",
    "                           \"he'd\": \"he would\",\"he'll\": \"he will\", \"he's\": \"he is\", \"how'd\": \"how did\", \"how'd'y\": \"how do you\", \"how'll\": \"how will\", \"how's\": \"how is\",\n",
    "                           \"I'd\": \"I would\", \"I'd've\": \"I would have\", \"I'll\": \"I will\", \"I'll've\": \"I will have\",\"I'm\": \"I am\", \"I've\": \"I have\", \"i'd\": \"i would\",\n",
    "                           \"i'd've\": \"i would have\", \"i'll\": \"i will\",  \"i'll've\": \"i will have\",\"i'm\": \"i am\", \"i've\": \"i have\", \"isn't\": \"is not\", \"it'd\": \"it would\",\n",
    "                           \"it'd've\": \"it would have\", \"it'll\": \"it will\", \"it'll've\": \"it will have\",\"it's\": \"it is\", \"let's\": \"let us\", \"ma'am\": \"madam\",\n",
    "                           \"mayn't\": \"may not\", \"might've\": \"might have\",\"mightn't\": \"might not\",\"mightn't've\": \"might not have\", \"must've\": \"must have\",\n",
    "                           \"mustn't\": \"must not\", \"mustn't've\": \"must not have\", \"needn't\": \"need not\", \"needn't've\": \"need not have\",\"o'clock\": \"of the clock\",\n",
    "                           \"oughtn't\": \"ought not\", \"oughtn't've\": \"ought not have\", \"shan't\": \"shall not\", \"sha'n't\": \"shall not\", \"shan't've\": \"shall not have\",\n",
    "                           \"she'd\": \"she would\", \"she'd've\": \"she would have\", \"she'll\": \"she will\", \"she'll've\": \"she will have\", \"she's\": \"she is\",\n",
    "                           \"should've\": \"should have\", \"shouldn't\": \"should not\", \"shouldn't've\": \"should not have\", \"so've\": \"so have\",\"so's\": \"so as\",\n",
    "                           \"this's\": \"this is\",\"that'd\": \"that would\", \"that'd've\": \"that would have\", \"that's\": \"that is\", \"there'd\": \"there would\",\n",
    "                           \"there'd've\": \"there would have\", \"there's\": \"there is\", \"here's\": \"here is\",\"they'd\": \"they would\", \"they'd've\": \"they would have\",\n",
    "                           \"they'll\": \"they will\", \"they'll've\": \"they will have\", \"they're\": \"they are\", \"they've\": \"they have\", \"to've\": \"to have\",\n",
    "                           \"wasn't\": \"was not\", \"we'd\": \"we would\", \"we'd've\": \"we would have\", \"we'll\": \"we will\", \"we'll've\": \"we will have\", \"we're\": \"we are\",\n",
    "                           \"we've\": \"we have\", \"weren't\": \"were not\", \"what'll\": \"what will\", \"what'll've\": \"what will have\", \"what're\": \"what are\",\n",
    "                           \"what's\": \"what is\", \"what've\": \"what have\", \"when's\": \"when is\", \"when've\": \"when have\", \"where'd\": \"where did\", \"where's\": \"where is\",\n",
    "                           \"where've\": \"where have\", \"who'll\": \"who will\", \"who'll've\": \"who will have\", \"who's\": \"who is\", \"who've\": \"who have\",\n",
    "                           \"why's\": \"why is\", \"why've\": \"why have\", \"will've\": \"will have\", \"won't\": \"will not\", \"won't've\": \"will not have\",\n",
    "                           \"would've\": \"would have\", \"wouldn't\": \"would not\", \"wouldn't've\": \"would not have\", \"y'all\": \"you all\",\n",
    "                           \"y'all'd\": \"you all would\",\"y'all'd've\": \"you all would have\",\"y'all're\": \"you all are\",\"y'all've\": \"you all have\",\n",
    "                           \"you'd\": \"you would\", \"you'd've\": \"you would have\", \"you'll\": \"you will\", \"you'll've\": \"you will have\",\n",
    "                           \"you're\": \"you are\", \"you've\": \"you have\"}\n",
    "\n",
    "print(\"정규화 사전의 수: \", len(contractions))"
   ]
  },
  {
   "cell_type": "code",
   "execution_count": 94,
   "id": "sought-reporter",
   "metadata": {},
   "outputs": [
    {
     "name": "stdout",
     "output_type": "stream",
     "text": [
      "불용어 개수 : 179\n",
      "['i', 'me', 'my', 'myself', 'we', 'our', 'ours', 'ourselves', 'you', \"you're\", \"you've\", \"you'll\", \"you'd\", 'your', 'yours', 'yourself', 'yourselves', 'he', 'him', 'his', 'himself', 'she', \"she's\", 'her', 'hers', 'herself', 'it', \"it's\", 'its', 'itself', 'they', 'them', 'their', 'theirs', 'themselves', 'what', 'which', 'who', 'whom', 'this', 'that', \"that'll\", 'these', 'those', 'am', 'is', 'are', 'was', 'were', 'be', 'been', 'being', 'have', 'has', 'had', 'having', 'do', 'does', 'did', 'doing', 'a', 'an', 'the', 'and', 'but', 'if', 'or', 'because', 'as', 'until', 'while', 'of', 'at', 'by', 'for', 'with', 'about', 'against', 'between', 'into', 'through', 'during', 'before', 'after', 'above', 'below', 'to', 'from', 'up', 'down', 'in', 'out', 'on', 'off', 'over', 'under', 'again', 'further', 'then', 'once', 'here', 'there', 'when', 'where', 'why', 'how', 'all', 'any', 'both', 'each', 'few', 'more', 'most', 'other', 'some', 'such', 'no', 'nor', 'not', 'only', 'own', 'same', 'so', 'than', 'too', 'very', 's', 't', 'can', 'will', 'just', 'don', \"don't\", 'should', \"should've\", 'now', 'd', 'll', 'm', 'o', 're', 've', 'y', 'ain', 'aren', \"aren't\", 'couldn', \"couldn't\", 'didn', \"didn't\", 'doesn', \"doesn't\", 'hadn', \"hadn't\", 'hasn', \"hasn't\", 'haven', \"haven't\", 'isn', \"isn't\", 'ma', 'mightn', \"mightn't\", 'mustn', \"mustn't\", 'needn', \"needn't\", 'shan', \"shan't\", 'shouldn', \"shouldn't\", 'wasn', \"wasn't\", 'weren', \"weren't\", 'won', \"won't\", 'wouldn', \"wouldn't\"]\n"
     ]
    }
   ],
   "source": [
    "print('불용어 개수 :', len(stopwords.words('english') ))\n",
    "print(stopwords.words('english'))"
   ]
  },
  {
   "cell_type": "markdown",
   "id": "willing-marriage",
   "metadata": {},
   "source": [
    "### 데이터 전처리 함수 정의"
   ]
  },
  {
   "cell_type": "code",
   "execution_count": 95,
   "id": "extra-elevation",
   "metadata": {},
   "outputs": [],
   "source": [
    "# 데이터 전처리 함수\n",
    "def preprocess_sentence(sentence, remove_stopwords=True):\n",
    "    sentence = sentence.lower() # 텍스트 소문자화\n",
    "    sentence = BeautifulSoup(sentence, \"lxml\").text # <br />, <a href = ...> 등의 html 태그 제거\n",
    "    sentence = re.sub(r'\\([^)]*\\)', '', sentence) # 괄호로 닫힌 문자열 (...) 제거 Ex) my husband (and myself!) for => my husband for\n",
    "    sentence = re.sub('\"','', sentence) # 쌍따옴표 \" 제거\n",
    "    sentence = ' '.join([contractions[t] if t in contractions else t for t in sentence.split(\" \")]) # 약어 정규화\n",
    "    sentence = re.sub(r\"'s\\b\",\"\", sentence) # 소유격 제거. Ex) roland's -> roland\n",
    "    sentence = re.sub(\"[^a-zA-Z]\", \" \", sentence) # 영어 외 문자(숫자, 특수문자 등) 공백으로 변환\n",
    "    sentence = re.sub('[m]{2,}', 'mm', sentence) # m이 3개 이상이면 2개로 변경. Ex) ummmmmmm yeah -> umm yeah\n",
    "    \n",
    "    # 불용어 제거 (Text)\n",
    "    if remove_stopwords:\n",
    "        tokens = ' '.join(word for word in sentence.split() if not word in stopwords.words('english') if len(word) > 1)\n",
    "    # 불용어 미제거 (Summary)\n",
    "    else:\n",
    "        tokens = ' '.join(word for word in sentence.split() if len(word) > 1)\n",
    "    return tokens"
   ]
  },
  {
   "cell_type": "code",
   "execution_count": 96,
   "id": "modified-bracelet",
   "metadata": {},
   "outputs": [
    {
     "name": "stdout",
     "output_type": "stream",
     "text": [
      "everything bought great infact ordered twice third ordered wasfor mother father\n",
      "great way to start the day\n"
     ]
    }
   ],
   "source": [
    "temp_text = 'Everything I bought was great, infact I ordered twice and the third ordered was<br />for my mother and father.'\n",
    "temp_summary = 'Great way to start (or finish) the day!!!'\n",
    "\n",
    "print(preprocess_sentence(temp_text))\n",
    "print(preprocess_sentence(temp_summary, False))  # 불용어를 제거하지 않습니다."
   ]
  },
  {
   "cell_type": "markdown",
   "id": "outdoor-nickel",
   "metadata": {},
   "source": [
    "### 데이터 전처리 함수 실행(느린 예)"
   ]
  },
  {
   "cell_type": "code",
   "execution_count": 97,
   "id": "developmental-appendix",
   "metadata": {},
   "outputs": [],
   "source": [
    "# clean_text = []\n",
    "# # 전체 Text 데이터에 대한 전처리 : 10분 이상 시간이 걸릴 수 있습니다. \n",
    "# for s in data['Text']:\n",
    "#     clean_text.append(preprocess_sentence(s))\n",
    "\n",
    "# # 전처리 후 출력\n",
    "# print(clean_text[:5])\n",
    "\n",
    "\n",
    "# clean_summary = []\n",
    "# # 전체 Summary 데이터에 대한 전처리 : 5분 이상 시간이 걸릴 수 있습니다. \n",
    "# for s in data['Summary']:\n",
    "#     clean_summary.append(preprocess_sentence(s, False))\n",
    "\n",
    "# print(clean_summary[:5])\n",
    "\n"
   ]
  },
  {
   "cell_type": "markdown",
   "id": "handmade-marks",
   "metadata": {},
   "source": [
    "### 데이터 전처리 함수 실행(멀티 프로세싱 사용 --> 빠른 예)"
   ]
  },
  {
   "cell_type": "code",
   "execution_count": 98,
   "id": "afraid-pierre",
   "metadata": {},
   "outputs": [
    {
     "name": "stdout",
     "output_type": "stream",
     "text": [
      "180.40513229370117  seconds\n",
      "['saurav kant alumnus upgrad iiit pg program machine learning artificial intelligence sr systems engineer infosys almost years work experience program upgrad degree career support helped transition data scientist tech mahindra salary hike upgrad online power learning powered lakh careers'\n",
      " 'kunal shah credit card bill payment platform cred gave users chance win free food swiggy one year pranav kaushik delhi techie bagged reward spending cred coins users get one cred coin per rupee bill paid used avail rewards brands like ixigo bookmyshow ubereats cult fit'\n",
      " 'new zealand defeated india wickets fourth odi hamilton thursday win first match five match odi series india lost international match rohit sharma captaincy consecutive victories dating back march match witnessed india getting seventh lowest total odi cricket history'\n",
      " ...\n",
      " 'according reports new version science fiction film matrix development michael jordan reportedly play lead role film screenwriter zak penn talks write script film reports added actor keanu reeves starred original film followed two sequels'\n",
      " 'new music video shows rapper snoop dogg aiming toy gun clown character parodying us president donald trump video also shows tv airing news conference headline ronald klump wants deport doggs airing live clown house video remixed version song lavender'\n",
      " 'madhesi morcha alliance seven political parties withdrawn support pm pushpa kamal dahal led nepal government failed meet seven day ultimatum fulfil demands including endorsement revised constitution amendment bill morcha seats parliament despite withdrawal support immediate threat government']\n",
      "5.756581544876099  seconds\n",
      "['upgrad learner switches to career in ml al with salary hike'\n",
      " 'delhi techie wins free food from swiggy for one year on cred'\n",
      " 'new zealand end rohit sharma led india match winning streak' ...\n",
      " 'the matrix film to get reboot reports'\n",
      " 'snoop dogg aims gun at clown dressed as trump in new video'\n",
      " 'madhesi morcha withdraws support to nepalese government']\n"
     ]
    }
   ],
   "source": [
    "import multiprocessing as mp   # 멀티 프로세싱으로 전처리 속도를 획기적으로 줄여봅시다\n",
    "from multiprocessing import Pool\n",
    "import numpy as np\n",
    "import time\n",
    "from functools import partial  # map을 할 때 함수에 여러 인자를 넣어줄 수 있도록 합니다\n",
    "\n",
    "start = time.time()\n",
    "\n",
    "# num_cores 만큼 쪼개진 데이터를 전처리하여 반환합니다\n",
    "def appendTexts(sentences, remove_stopwords):\n",
    "  texts = []\n",
    "  for s in sentences:\n",
    "    texts += preprocess_sentence(s, remove_stopwords),\n",
    "  return texts\n",
    "\n",
    "def preprocess_data(data, remove_stopwords=True):\n",
    "  start_time = time.time()\n",
    "  num_cores = mp.cpu_count()  # 컴퓨터의 코어 수를 구합니다\n",
    "\n",
    "  text_data_split = np.array_split(data, num_cores)  # 코어 수만큼 데이터를 배분하여 병렬적으로 처리할 수 있게 합니다\n",
    "  pool = Pool(num_cores)\n",
    "\n",
    "  processed_data = np.concatenate(pool.map(partial(appendTexts, remove_stopwords=remove_stopwords), text_data_split))  # 각자 작업한 데이터를 하나로 합쳐줍니다\n",
    "  pool.close()\n",
    "  pool.join()\n",
    "  print(time.time() - start_time, \" seconds\")\n",
    "  return processed_data\n",
    "\n",
    "clean_text = preprocess_data(data['Text'])  # 클라우드 기준으로 3~4분 정도 소요 됩니다\n",
    "print(clean_text)\n",
    "\n",
    "clean_summary = preprocess_data(data['Summary'], remove_stopwords=False) # 클라우드 기준 1분정도 소요됩니다.\n",
    "print(clean_summary)"
   ]
  },
  {
   "cell_type": "code",
   "execution_count": 99,
   "id": "biological-highland",
   "metadata": {},
   "outputs": [
    {
     "data": {
      "text/plain": [
       "6"
      ]
     },
     "execution_count": 99,
     "metadata": {},
     "output_type": "execute_result"
    }
   ],
   "source": [
    "mp.cpu_count()"
   ]
  },
  {
   "cell_type": "markdown",
   "id": "exposed-american",
   "metadata": {},
   "source": [
    "* cpu개수가 6대인걸 확인할 수 있다.\n",
    "    - 6배는 빨라질거야!"
   ]
  },
  {
   "cell_type": "code",
   "execution_count": 100,
   "id": "certain-bahamas",
   "metadata": {},
   "outputs": [],
   "source": [
    "data['Text'] = clean_text\n",
    "data['Summary'] = clean_summary\n",
    "\n",
    "# 빈 값을 Null 값으로 변환\n",
    "data.replace('', np.nan, inplace=True)"
   ]
  },
  {
   "cell_type": "markdown",
   "id": "aggressive-ontario",
   "metadata": {},
   "source": [
    "* 텍스트 정제 과정에서 empty 샘플이 생길 수 있음\n",
    "    - 빈 값을 가진 샘플 -> Null로 교체"
   ]
  },
  {
   "cell_type": "code",
   "execution_count": 101,
   "id": "sorted-jersey",
   "metadata": {},
   "outputs": [
    {
     "data": {
      "text/plain": [
       "Text       0\n",
       "Summary    0\n",
       "dtype: int64"
      ]
     },
     "execution_count": 101,
     "metadata": {},
     "output_type": "execute_result"
    }
   ],
   "source": [
    "data.isnull().sum()"
   ]
  },
  {
   "cell_type": "code",
   "execution_count": 102,
   "id": "electric-assessment",
   "metadata": {},
   "outputs": [
    {
     "name": "stdout",
     "output_type": "stream",
     "text": [
      "전체 샘플수 : 98360\n"
     ]
    }
   ],
   "source": [
    "data.dropna(axis=0, inplace=True)\n",
    "print('전체 샘플수 :', (len(data)))"
   ]
  },
  {
   "cell_type": "markdown",
   "id": "curious-familiar",
   "metadata": {},
   "source": [
    "- 샘플 개수 유지 --> Text 정제 이후에도 null된 데이터 없음"
   ]
  },
  {
   "cell_type": "markdown",
   "id": "neither-married",
   "metadata": {},
   "source": [
    "# 데이터 전처리 - 훈련/테스트 데이터 나누기"
   ]
  },
  {
   "cell_type": "markdown",
   "id": "binary-quick",
   "metadata": {},
   "source": [
    "## 텍스트와 요약의 길이 시각화"
   ]
  },
  {
   "cell_type": "code",
   "execution_count": 103,
   "id": "super-memorial",
   "metadata": {
    "scrolled": true
   },
   "outputs": [
    {
     "name": "stdout",
     "output_type": "stream",
     "text": [
      "텍스트의 최소 길이 : 1\n",
      "텍스트의 최대 길이 : 60\n",
      "텍스트의 평균 길이 : 35.09968483123221\n",
      "요약의 최소 길이 : 1\n",
      "요약의 최대 길이 : 16\n",
      "요약의 평균 길이 : 9.299532330215534\n"
     ]
    },
    {
     "data": {
      "image/png": "[encoded data removed]",
      "text/plain": [
       "<Figure size 432x288 with 2 Axes>"
      ]
     },
     "metadata": {
      "needs_background": "light"
     },
     "output_type": "display_data"
    },
    {
     "data": {
      "image/png": "[encoded data removed]",
      "text/plain": [
       "<Figure size 432x288 with 1 Axes>"
      ]
     },
     "metadata": {
      "needs_background": "light"
     },
     "output_type": "display_data"
    },
    {
     "data": {
      "image/png": "[encoded data removed]",
      "text/plain": [
       "<Figure size 432x288 with 1 Axes>"
      ]
     },
     "metadata": {
      "needs_background": "light"
     },
     "output_type": "display_data"
    }
   ],
   "source": [
    "# 길이 분포 출력\n",
    "import matplotlib.pyplot as plt\n",
    "\n",
    "text_len = [len(s.split()) for s in data['Text']]\n",
    "summary_len = [len(s.split()) for s in data['Summary']]\n",
    "\n",
    "print('텍스트의 최소 길이 : {}'.format(np.min(text_len)))\n",
    "print('텍스트의 최대 길이 : {}'.format(np.max(text_len)))\n",
    "print('텍스트의 평균 길이 : {}'.format(np.mean(text_len)))\n",
    "print('요약의 최소 길이 : {}'.format(np.min(summary_len)))\n",
    "print('요약의 최대 길이 : {}'.format(np.max(summary_len)))\n",
    "print('요약의 평균 길이 : {}'.format(np.mean(summary_len)))\n",
    "\n",
    "plt.subplot(1,2,1)\n",
    "plt.boxplot(summary_len)\n",
    "plt.title('Summary')\n",
    "plt.subplot(1,2,2)\n",
    "plt.boxplot(text_len)\n",
    "plt.title('Text')\n",
    "plt.tight_layout()\n",
    "plt.show()\n",
    "\n",
    "plt.title('Summary')\n",
    "plt.hist(summary_len, bins = 40)\n",
    "plt.xlabel('length of samples')\n",
    "plt.ylabel('number of samples')\n",
    "plt.show()\n",
    "\n",
    "plt.title('Text')\n",
    "plt.hist(text_len, bins = 40)\n",
    "plt.xlabel('length of samples')\n",
    "plt.ylabel('number of samples')\n",
    "plt.show()"
   ]
  },
  {
   "cell_type": "markdown",
   "id": "chief-convert",
   "metadata": {},
   "source": [
    "## text와 summary의 길이 제한을 줬을 때 샘플이 얼마나 잘리는지 확인"
   ]
  },
  {
   "cell_type": "code",
   "execution_count": 104,
   "id": "composed-mobile",
   "metadata": {},
   "outputs": [],
   "source": [
    "text_max_len = 40\n",
    "summary_max_len = 10"
   ]
  },
  {
   "cell_type": "code",
   "execution_count": 105,
   "id": "friendly-cruise",
   "metadata": {},
   "outputs": [],
   "source": [
    "def below_threshold_len(max_len, nested_list):\n",
    "  cnt = 0\n",
    "  for s in nested_list:\n",
    "    if(len(s.split()) <= max_len):\n",
    "        cnt = cnt + 1\n",
    "  print('전체 샘플 중 길이가 %s 이하인 샘플의 비율: %s'%(max_len, (cnt / len(nested_list))))"
   ]
  },
  {
   "cell_type": "code",
   "execution_count": 106,
   "id": "considered-transcription",
   "metadata": {},
   "outputs": [
    {
     "name": "stdout",
     "output_type": "stream",
     "text": [
      "전체 샘플 중 길이가 40 이하인 샘플의 비율: 0.9238714924766165\n",
      "전체 샘플 중 길이가 10 이하인 샘플의 비율: 0.8162972753151687\n"
     ]
    }
   ],
   "source": [
    "below_threshold_len(text_max_len, data['Text'])\n",
    "below_threshold_len(summary_max_len,  data['Summary'])"
   ]
  },
  {
   "cell_type": "code",
   "execution_count": 107,
   "id": "bottom-profit",
   "metadata": {},
   "outputs": [
    {
     "name": "stdout",
     "output_type": "stream",
     "text": [
      "전체 샘플수 : 74102\n"
     ]
    }
   ],
   "source": [
    "data = data[data['Text'].apply(lambda x: len(x.split()) <= text_max_len)]\n",
    "data = data[data['Summary'].apply(lambda x: len(x.split()) <= summary_max_len)]\n",
    "print('전체 샘플수 :', (len(data)))"
   ]
  },
  {
   "cell_type": "markdown",
   "id": "sapphire-housing",
   "metadata": {},
   "source": [
    "### apply함수 어떻게 적용되는지 확인용 "
   ]
  },
  {
   "cell_type": "code",
   "execution_count": 130,
   "id": "tribal-triumph",
   "metadata": {},
   "outputs": [],
   "source": [
    "apply_test = data.copy()"
   ]
  },
  {
   "cell_type": "code",
   "execution_count": 131,
   "id": "stone-wrapping",
   "metadata": {},
   "outputs": [
    {
     "data": {
      "text/html": [
       "<div>\n",
       "<style scoped>\n",
       "    .dataframe tbody tr th:only-of-type {\n",
       "        vertical-align: middle;\n",
       "    }\n",
       "\n",
       "    .dataframe tbody tr th {\n",
       "        vertical-align: top;\n",
       "    }\n",
       "\n",
       "    .dataframe thead th {\n",
       "        text-align: right;\n",
       "    }\n",
       "</style>\n",
       "<table border=\"1\" class=\"dataframe\">\n",
       "  <thead>\n",
       "    <tr style=\"text-align: right;\">\n",
       "      <th></th>\n",
       "      <th>Text</th>\n",
       "      <th>Summary</th>\n",
       "    </tr>\n",
       "  </thead>\n",
       "  <tbody>\n",
       "    <tr>\n",
       "      <th>22</th>\n",
       "      <td>least people killed others injured saudi arabi...</td>\n",
       "      <td>killed injured in saudi arabia floods</td>\n",
       "    </tr>\n",
       "    <tr>\n",
       "      <th>37</th>\n",
       "      <td>afghan president ashraf ghani said keys war pa...</td>\n",
       "      <td>pakistan holds keys to war afghanistan</td>\n",
       "    </tr>\n",
       "    <tr>\n",
       "      <th>41</th>\n",
       "      <td>swedish multinational fast fashion brand henne...</td>\n",
       "      <td>fashion brand hires facebook data scandal whis...</td>\n",
       "    </tr>\n",
       "  </tbody>\n",
       "</table>\n",
       "</div>"
      ],
      "text/plain": [
       "                                                 Text  \\\n",
       "22  least people killed others injured saudi arabi...   \n",
       "37  afghan president ashraf ghani said keys war pa...   \n",
       "41  swedish multinational fast fashion brand henne...   \n",
       "\n",
       "                                              Summary  \n",
       "22              killed injured in saudi arabia floods  \n",
       "37             pakistan holds keys to war afghanistan  \n",
       "41  fashion brand hires facebook data scandal whis...  "
      ]
     },
     "execution_count": 131,
     "metadata": {},
     "output_type": "execute_result"
    }
   ],
   "source": [
    "apply_test = data_test[:30]\n",
    "apply_test"
   ]
  },
  {
   "cell_type": "code",
   "execution_count": 132,
   "id": "instructional-reading",
   "metadata": {},
   "outputs": [
    {
     "data": {
      "text/html": [
       "<div>\n",
       "<style scoped>\n",
       "    .dataframe tbody tr th:only-of-type {\n",
       "        vertical-align: middle;\n",
       "    }\n",
       "\n",
       "    .dataframe tbody tr th {\n",
       "        vertical-align: top;\n",
       "    }\n",
       "\n",
       "    .dataframe thead th {\n",
       "        text-align: right;\n",
       "    }\n",
       "</style>\n",
       "<table border=\"1\" class=\"dataframe\">\n",
       "  <thead>\n",
       "    <tr style=\"text-align: right;\">\n",
       "      <th></th>\n",
       "      <th>Text</th>\n",
       "      <th>Summary</th>\n",
       "    </tr>\n",
       "  </thead>\n",
       "  <tbody>\n",
       "    <tr>\n",
       "      <th>22</th>\n",
       "      <td>least people killed others injured saudi arabi...</td>\n",
       "      <td>killed injured in saudi arabia floods</td>\n",
       "    </tr>\n",
       "    <tr>\n",
       "      <th>37</th>\n",
       "      <td>afghan president ashraf ghani said keys war pa...</td>\n",
       "      <td>pakistan holds keys to war afghanistan</td>\n",
       "    </tr>\n",
       "    <tr>\n",
       "      <th>41</th>\n",
       "      <td>swedish multinational fast fashion brand henne...</td>\n",
       "      <td>fashion brand hires facebook data scandal whis...</td>\n",
       "    </tr>\n",
       "  </tbody>\n",
       "</table>\n",
       "</div>"
      ],
      "text/plain": [
       "                                                 Text  \\\n",
       "22  least people killed others injured saudi arabi...   \n",
       "37  afghan president ashraf ghani said keys war pa...   \n",
       "41  swedish multinational fast fashion brand henne...   \n",
       "\n",
       "                                              Summary  \n",
       "22              killed injured in saudi arabia floods  \n",
       "37             pakistan holds keys to war afghanistan  \n",
       "41  fashion brand hires facebook data scandal whis...  "
      ]
     },
     "execution_count": 132,
     "metadata": {},
     "output_type": "execute_result"
    }
   ],
   "source": [
    "apply_test = apply_test[apply_test['Text'].apply(lambda x: len(x.split()) <=40)]\n",
    "apply_test = apply_test[apply_test['Summary'].apply(lambda x: len(x.split()) <= 7)]\n",
    "apply_test"
   ]
  },
  {
   "cell_type": "code",
   "execution_count": 133,
   "id": "written-jacob",
   "metadata": {},
   "outputs": [
    {
     "data": {
      "text/plain": [
       "3"
      ]
     },
     "execution_count": 133,
     "metadata": {},
     "output_type": "execute_result"
    }
   ],
   "source": [
    "len(apply_test)"
   ]
  },
  {
   "cell_type": "markdown",
   "id": "optimum-orchestra",
   "metadata": {},
   "source": [
    "* apply 함수\n",
    "    - apply함수를 통해 lambda식을 만족하는 행만 True로 바뀌고 그걸 다시 데이터에 넣으니 True 행만 추출하는 방식"
   ]
  },
  {
   "cell_type": "code",
   "execution_count": 134,
   "id": "arctic-category",
   "metadata": {
    "scrolled": true
   },
   "outputs": [
    {
     "data": {
      "text/html": [
       "<div>\n",
       "<style scoped>\n",
       "    .dataframe tbody tr th:only-of-type {\n",
       "        vertical-align: middle;\n",
       "    }\n",
       "\n",
       "    .dataframe tbody tr th {\n",
       "        vertical-align: top;\n",
       "    }\n",
       "\n",
       "    .dataframe thead th {\n",
       "        text-align: right;\n",
       "    }\n",
       "</style>\n",
       "<table border=\"1\" class=\"dataframe\">\n",
       "  <thead>\n",
       "    <tr style=\"text-align: right;\">\n",
       "      <th></th>\n",
       "      <th>Text</th>\n",
       "      <th>Summary</th>\n",
       "      <th>decoder_input</th>\n",
       "      <th>decoder_target</th>\n",
       "    </tr>\n",
       "  </thead>\n",
       "  <tbody>\n",
       "    <tr>\n",
       "      <th>2</th>\n",
       "      <td>new zealand defeated india wickets fourth odi ...</td>\n",
       "      <td>new zealand end rohit sharma led india match w...</td>\n",
       "      <td>sostoken new zealand end rohit sharma led indi...</td>\n",
       "      <td>new zealand end rohit sharma led india match w...</td>\n",
       "    </tr>\n",
       "    <tr>\n",
       "      <th>3</th>\n",
       "      <td>aegon life iterm insurance plan customers enjo...</td>\n",
       "      <td>aegon life iterm insurance plan helps customer...</td>\n",
       "      <td>sostoken aegon life iterm insurance plan helps...</td>\n",
       "      <td>aegon life iterm insurance plan helps customer...</td>\n",
       "    </tr>\n",
       "    <tr>\n",
       "      <th>5</th>\n",
       "      <td>pakistani singer rahat fateh ali khan denied r...</td>\n",
       "      <td>rahat fateh ali khan denies getting notice for...</td>\n",
       "      <td>sostoken rahat fateh ali khan denies getting n...</td>\n",
       "      <td>rahat fateh ali khan denies getting notice for...</td>\n",
       "    </tr>\n",
       "    <tr>\n",
       "      <th>9</th>\n",
       "      <td>congress candidate shafia zubair ramgarh assem...</td>\n",
       "      <td>cong wins ramgarh bypoll in rajasthan takes to...</td>\n",
       "      <td>sostoken cong wins ramgarh bypoll in rajasthan...</td>\n",
       "      <td>cong wins ramgarh bypoll in rajasthan takes to...</td>\n",
       "    </tr>\n",
       "    <tr>\n",
       "      <th>10</th>\n",
       "      <td>two minor cousins uttar pradesh gorakhpur alle...</td>\n",
       "      <td>up cousins fed human excreta for friendship wi...</td>\n",
       "      <td>sostoken up cousins fed human excreta for frie...</td>\n",
       "      <td>up cousins fed human excreta for friendship wi...</td>\n",
       "    </tr>\n",
       "  </tbody>\n",
       "</table>\n",
       "</div>"
      ],
      "text/plain": [
       "                                                 Text  \\\n",
       "2   new zealand defeated india wickets fourth odi ...   \n",
       "3   aegon life iterm insurance plan customers enjo...   \n",
       "5   pakistani singer rahat fateh ali khan denied r...   \n",
       "9   congress candidate shafia zubair ramgarh assem...   \n",
       "10  two minor cousins uttar pradesh gorakhpur alle...   \n",
       "\n",
       "                                              Summary  \\\n",
       "2   new zealand end rohit sharma led india match w...   \n",
       "3   aegon life iterm insurance plan helps customer...   \n",
       "5   rahat fateh ali khan denies getting notice for...   \n",
       "9   cong wins ramgarh bypoll in rajasthan takes to...   \n",
       "10  up cousins fed human excreta for friendship wi...   \n",
       "\n",
       "                                        decoder_input  \\\n",
       "2   sostoken new zealand end rohit sharma led indi...   \n",
       "3   sostoken aegon life iterm insurance plan helps...   \n",
       "5   sostoken rahat fateh ali khan denies getting n...   \n",
       "9   sostoken cong wins ramgarh bypoll in rajasthan...   \n",
       "10  sostoken up cousins fed human excreta for frie...   \n",
       "\n",
       "                                       decoder_target  \n",
       "2   new zealand end rohit sharma led india match w...  \n",
       "3   aegon life iterm insurance plan helps customer...  \n",
       "5   rahat fateh ali khan denies getting notice for...  \n",
       "9   cong wins ramgarh bypoll in rajasthan takes to...  \n",
       "10  up cousins fed human excreta for friendship wi...  "
      ]
     },
     "execution_count": 134,
     "metadata": {},
     "output_type": "execute_result"
    }
   ],
   "source": [
    "# 요약 데이터에는 시작 토큰과 종료 토큰을 추가한다.\n",
    "data['decoder_input'] = data['Summary'].apply(lambda x : 'sostoken '+ x)\n",
    "data['decoder_target'] = data['Summary'].apply(lambda x : x + ' eostoken')\n",
    "data.head()"
   ]
  },
  {
   "cell_type": "code",
   "execution_count": 135,
   "id": "final-image",
   "metadata": {},
   "outputs": [],
   "source": [
    "encoder_input = np.array(data['Text']) # 인코더의 입력\n",
    "decoder_input = np.array(data['decoder_input']) # 디코더의 입력\n",
    "decoder_target = np.array(data['decoder_target']) # 디코더의 레이블"
   ]
  },
  {
   "cell_type": "markdown",
   "id": "frank-launch",
   "metadata": {},
   "source": [
    "## 훈련/테스트 데이터를 분리하는 방법 - 직접 코딩\n",
    " - encoder_input데이터와 크기, 형태가 같은 순서가 섞인 정수 시퀀스 만들기\n",
    " - 2:8로 데이터 분리\n",
    " - test는 행벡터, train은 열벡터로 분리"
   ]
  },
  {
   "cell_type": "code",
   "execution_count": 136,
   "id": "departmental-mouse",
   "metadata": {},
   "outputs": [
    {
     "name": "stdout",
     "output_type": "stream",
     "text": [
      "[62634 29235 26591 ...  7135 59599 53006]\n"
     ]
    }
   ],
   "source": [
    "indices = np.arange(encoder_input.shape[0])\n",
    "np.random.shuffle(indices)\n",
    "print(indices)"
   ]
  },
  {
   "cell_type": "code",
   "execution_count": 137,
   "id": "least-chorus",
   "metadata": {},
   "outputs": [],
   "source": [
    "encoder_input = encoder_input[indices]\n",
    "decoder_input = decoder_input[indices]\n",
    "decoder_target = decoder_target[indices]"
   ]
  },
  {
   "cell_type": "code",
   "execution_count": 138,
   "id": "respected-edinburgh",
   "metadata": {},
   "outputs": [
    {
     "name": "stdout",
     "output_type": "stream",
     "text": [
      "테스트 데이터의 수 : 14820\n"
     ]
    }
   ],
   "source": [
    "n_of_val = int(len(encoder_input)*0.2)\n",
    "print('테스트 데이터의 수 :', n_of_val)"
   ]
  },
  {
   "cell_type": "code",
   "execution_count": 139,
   "id": "rapid-retail",
   "metadata": {
    "scrolled": true
   },
   "outputs": [
    {
     "name": "stdout",
     "output_type": "stream",
     "text": [
      "훈련 데이터의 개수 : 59282\n",
      "훈련 레이블의 개수 : 59282\n",
      "테스트 데이터의 개수 : 14820\n",
      "테스트 레이블의 개수 : 14820\n"
     ]
    }
   ],
   "source": [
    "encoder_input_train = encoder_input[:-n_of_val]\n",
    "decoder_input_train = decoder_input[:-n_of_val]\n",
    "decoder_target_train = decoder_target[:-n_of_val]\n",
    "\n",
    "encoder_input_test = encoder_input[-n_of_val:]\n",
    "decoder_input_test = decoder_input[-n_of_val:]\n",
    "decoder_target_test = decoder_target[-n_of_val:]\n",
    "\n",
    "print('훈련 데이터의 개수 :', len(encoder_input_train))\n",
    "print('훈련 레이블의 개수 :', len(decoder_input_train))\n",
    "print('테스트 데이터의 개수 :', len(encoder_input_test))\n",
    "print('테스트 레이블의 개수 :', len(decoder_input_test))"
   ]
  },
  {
   "cell_type": "markdown",
   "id": "contrary-april",
   "metadata": {},
   "source": [
    "# 데이터 전처리 - 정수 인코딩"
   ]
  },
  {
   "cell_type": "code",
   "execution_count": 140,
   "id": "extensive-consultation",
   "metadata": {},
   "outputs": [],
   "source": [
    "src_tokenizer = Tokenizer() # 토크나이저 정의\n",
    "src_tokenizer.fit_on_texts(encoder_input_train) # 입력된 데이터로부터 단어 집합 생성"
   ]
  },
  {
   "cell_type": "markdown",
   "id": "complete-thesaurus",
   "metadata": {},
   "source": [
    "- train 데이터 인코딩"
   ]
  },
  {
   "cell_type": "code",
   "execution_count": 141,
   "id": "ruled-announcement",
   "metadata": {
    "scrolled": true
   },
   "outputs": [
    {
     "name": "stdout",
     "output_type": "stream",
     "text": [
      "단어 집합(vocabulary)의 크기 : 61602\n",
      "등장 빈도가 6번 이하인 희귀 단어의 수: 42301\n",
      "단어 집합에서 희귀 단어를 제외시킬 경우의 단어 집합의 크기 19301\n",
      "단어 집합에서 희귀 단어의 비율: 68.66822505762799\n",
      "전체 등장 빈도에서 희귀 단어 등장 빈도 비율: 4.195601244969322\n"
     ]
    }
   ],
   "source": [
    "threshold = 7\n",
    "total_cnt = len(src_tokenizer.word_index) # 단어의 수\n",
    "rare_cnt = 0 # 등장 빈도수가 threshold보다 작은 단어의 개수를 카운트\n",
    "total_freq = 0 # 훈련 데이터의 전체 단어 빈도수 총 합\n",
    "rare_freq = 0 # 등장 빈도수가 threshold보다 작은 단어의 등장 빈도수의 총 합\n",
    "\n",
    "# 단어와 빈도수의 쌍(pair)을 key와 value로 받는다.\n",
    "for key, value in src_tokenizer.word_counts.items():\n",
    "    total_freq = total_freq + value\n",
    "\n",
    "    # 단어의 등장 빈도수가 threshold보다 작으면\n",
    "    if(value < threshold):\n",
    "        rare_cnt = rare_cnt + 1\n",
    "        rare_freq = rare_freq + value\n",
    "\n",
    "print('단어 집합(vocabulary)의 크기 :', total_cnt)\n",
    "print('등장 빈도가 %s번 이하인 희귀 단어의 수: %s'%(threshold - 1, rare_cnt))\n",
    "print('단어 집합에서 희귀 단어를 제외시킬 경우의 단어 집합의 크기 %s'%(total_cnt - rare_cnt))\n",
    "print(\"단어 집합에서 희귀 단어의 비율:\", (rare_cnt / total_cnt)*100)\n",
    "print(\"전체 등장 빈도에서 희귀 단어 등장 빈도 비율:\", (rare_freq / total_freq)*100)"
   ]
  },
  {
   "cell_type": "markdown",
   "id": "macro-curve",
   "metadata": {},
   "source": [
    "- 등장빈도가 낮은 단어가 train데이터 셋에 얼마나 들어있는지 확인\n",
    "    - rare한 단어는 74퍼센트 / 빈도가 높은 편인 단어는 26버센트임을 알 수 있다."
   ]
  },
  {
   "cell_type": "code",
   "execution_count": 142,
   "id": "figured-brother",
   "metadata": {},
   "outputs": [],
   "source": [
    "src_vocab = 8000\n",
    "src_tokenizer = Tokenizer(num_words=src_vocab) # 단어 집합의 크기를 8,000으로 제한\n",
    "src_tokenizer.fit_on_texts(encoder_input_train) # 단어 집합 재생성."
   ]
  },
  {
   "cell_type": "code",
   "execution_count": 143,
   "id": "distinct-concentration",
   "metadata": {},
   "outputs": [
    {
     "name": "stdout",
     "output_type": "stream",
     "text": [
      "[[616, 408, 14, 84, 1578, 4522, 170, 4673, 347, 486, 63, 5259, 960, 544, 820, 77, 164, 17, 3663, 2436, 847, 761, 121, 402, 3350, 51, 101, 90, 3664, 14, 335, 761, 253], [617, 365, 511, 285, 6153, 290, 2751, 379, 20, 279, 3249, 100, 479, 617, 490, 625, 244, 1243], [27, 36, 2720, 104, 27, 7, 1676, 7405, 848, 2034, 1370, 7, 5972, 812, 2098, 4, 1213, 7, 396, 11, 253, 38, 142, 760, 5114, 4572, 6906, 7]]\n"
     ]
    }
   ],
   "source": [
    "# 텍스트 시퀀스를 정수 시퀀스로 변환\n",
    "encoder_input_train = src_tokenizer.texts_to_sequences(encoder_input_train) \n",
    "encoder_input_test = src_tokenizer.texts_to_sequences(encoder_input_test)\n",
    "\n",
    "# 잘 진행되었는지 샘플 출력\n",
    "print(encoder_input_train[:3])"
   ]
  },
  {
   "cell_type": "markdown",
   "id": "accessory-butter",
   "metadata": {},
   "source": [
    "- text_to_sequences()는 데이터의 단어들을 모두 정수로 변환하는 정수 인코딩을 수행"
   ]
  },
  {
   "cell_type": "markdown",
   "id": "laden-polls",
   "metadata": {},
   "source": [
    "## 타겟 train 데이터도 같은 작업"
   ]
  },
  {
   "cell_type": "code",
   "execution_count": 144,
   "id": "structured-confirmation",
   "metadata": {},
   "outputs": [],
   "source": [
    "tar_tokenizer = Tokenizer()\n",
    "tar_tokenizer.fit_on_texts(decoder_input_train)"
   ]
  },
  {
   "cell_type": "code",
   "execution_count": 145,
   "id": "backed-democracy",
   "metadata": {},
   "outputs": [
    {
     "name": "stdout",
     "output_type": "stream",
     "text": [
      "단어 집합(vocabulary)의 크기 : 27274\n",
      "등장 빈도가 5번 이하인 희귀 단어의 수: 18228\n",
      "단어 집합에서 희귀 단어를 제외시킬 경우의 단어 집합의 크기 9046\n",
      "단어 집합에서 희귀 단어의 비율: 66.83288113221383\n",
      "전체 등장 빈도에서 희귀 단어 등장 빈도 비율: 5.9747218684672125\n"
     ]
    }
   ],
   "source": [
    "threshold = 6\n",
    "total_cnt = len(tar_tokenizer.word_index) # 단어의 수\n",
    "rare_cnt = 0 # 등장 빈도수가 threshold보다 작은 단어의 개수를 카운트\n",
    "total_freq = 0 # 훈련 데이터의 전체 단어 빈도수 총 합\n",
    "rare_freq = 0 # 등장 빈도수가 threshold보다 작은 단어의 등장 빈도수의 총 합\n",
    "\n",
    "# 단어와 빈도수의 쌍(pair)을 key와 value로 받는다.\n",
    "for key, value in tar_tokenizer.word_counts.items():\n",
    "    total_freq = total_freq + value\n",
    "\n",
    "    # 단어의 등장 빈도수가 threshold보다 작으면\n",
    "    if(value < threshold):\n",
    "        rare_cnt = rare_cnt + 1\n",
    "        rare_freq = rare_freq + value\n",
    "\n",
    "print('단어 집합(vocabulary)의 크기 :', total_cnt)\n",
    "print('등장 빈도가 %s번 이하인 희귀 단어의 수: %s'%(threshold - 1, rare_cnt))\n",
    "print('단어 집합에서 희귀 단어를 제외시킬 경우의 단어 집합의 크기 %s'%(total_cnt - rare_cnt))\n",
    "print(\"단어 집합에서 희귀 단어의 비율:\", (rare_cnt / total_cnt)*100)\n",
    "print(\"전체 등장 빈도에서 희귀 단어 등장 빈도 비율:\", (rare_freq / total_freq)*100)"
   ]
  },
  {
   "cell_type": "code",
   "execution_count": 146,
   "id": "informal-access",
   "metadata": {},
   "outputs": [
    {
     "name": "stdout",
     "output_type": "stream",
     "text": [
      "input\n",
      "input  [[1, 387, 624, 59, 649, 12, 1136], [1, 501, 853, 444, 72, 17, 1258, 5, 439], [1, 50, 113, 5, 821, 1187], [1, 63, 307, 1560, 239, 18, 25, 19, 697, 650], [1, 342, 428, 693, 10, 212, 19, 17]]\n",
      "target\n",
      "decoder  [[387, 624, 59, 649, 12, 1136, 2], [501, 853, 444, 72, 17, 1258, 5, 439, 2], [50, 113, 5, 821, 1187, 2], [63, 307, 1560, 239, 18, 25, 19, 697, 650, 2], [342, 428, 693, 10, 212, 19, 17, 2]]\n"
     ]
    }
   ],
   "source": [
    "tar_vocab = 2000\n",
    "tar_tokenizer = Tokenizer(num_words=tar_vocab) \n",
    "tar_tokenizer.fit_on_texts(decoder_input_train)\n",
    "tar_tokenizer.fit_on_texts(decoder_target_train)\n",
    "\n",
    "# 텍스트 시퀀스를 정수 시퀀스로 변환\n",
    "decoder_input_train = tar_tokenizer.texts_to_sequences(decoder_input_train) \n",
    "decoder_target_train = tar_tokenizer.texts_to_sequences(decoder_target_train)\n",
    "decoder_input_test = tar_tokenizer.texts_to_sequences(decoder_input_test)\n",
    "decoder_target_test = tar_tokenizer.texts_to_sequences(decoder_target_test)\n",
    "\n",
    "# 잘 변환되었는지 확인\n",
    "print('input')\n",
    "print('input ',decoder_input_train[:5])\n",
    "print('target')\n",
    "print('decoder ',decoder_target_train[:5])"
   ]
  },
  {
   "cell_type": "markdown",
   "id": "unique-dairy",
   "metadata": {},
   "source": [
    "## 빈도수 낮은 데이터는 사라짐\n",
    "- len = 1일것임 (sostoken, eostoken이 남아있을 것)\n",
    "- 이런 샘플들을 삭제하자"
   ]
  },
  {
   "cell_type": "code",
   "execution_count": 147,
   "id": "nervous-facial",
   "metadata": {},
   "outputs": [
    {
     "name": "stdout",
     "output_type": "stream",
     "text": [
      "삭제할 훈련 데이터의 개수 : 10\n",
      "삭제할 테스트 데이터의 개수 : 2\n",
      "훈련 데이터의 개수 : 59272\n",
      "훈련 레이블의 개수 : 59272\n",
      "테스트 데이터의 개수 : 14818\n",
      "테스트 레이블의 개수 : 14818\n"
     ]
    },
    {
     "name": "stderr",
     "output_type": "stream",
     "text": [
      "/opt/conda/lib/python3.7/site-packages/numpy/core/_asarray.py:83: VisibleDeprecationWarning: Creating an ndarray from ragged nested sequences (which is a list-or-tuple of lists-or-tuples-or ndarrays with different lengths or shapes) is deprecated. If you meant to do this, you must specify 'dtype=object' when creating the ndarray\n",
      "  return array(a, dtype, copy=False, order=order)\n"
     ]
    }
   ],
   "source": [
    "drop_train = [index for index, sentence in enumerate(decoder_input_train) if len(sentence) == 1]\n",
    "drop_test = [index for index, sentence in enumerate(decoder_input_test) if len(sentence) == 1]\n",
    "\n",
    "print('삭제할 훈련 데이터의 개수 :', len(drop_train))\n",
    "print('삭제할 테스트 데이터의 개수 :', len(drop_test))\n",
    "\n",
    "encoder_input_train = np.delete(encoder_input_train, drop_train, axis=0)\n",
    "decoder_input_train = np.delete(decoder_input_train, drop_train, axis=0)\n",
    "decoder_target_train = np.delete(decoder_target_train, drop_train, axis=0)\n",
    "\n",
    "encoder_input_test = np.delete(encoder_input_test, drop_test, axis=0)\n",
    "decoder_input_test = np.delete(decoder_input_test, drop_test, axis=0)\n",
    "decoder_target_test = np.delete(decoder_target_test, drop_test, axis=0)\n",
    "\n",
    "print('훈련 데이터의 개수 :', len(encoder_input_train))\n",
    "print('훈련 레이블의 개수 :', len(decoder_input_train))\n",
    "print('테스트 데이터의 개수 :', len(encoder_input_test))\n",
    "print('테스트 레이블의 개수 :', len(decoder_input_test))"
   ]
  },
  {
   "cell_type": "code",
   "execution_count": 148,
   "id": "practical-extra",
   "metadata": {},
   "outputs": [],
   "source": [
    "encoder_input_train = pad_sequences(encoder_input_train, maxlen=text_max_len, padding='post')\n",
    "encoder_input_test = pad_sequences(encoder_input_test, maxlen=text_max_len, padding='post')\n",
    "decoder_input_train = pad_sequences(decoder_input_train, maxlen=summary_max_len, padding='post')\n",
    "decoder_target_train = pad_sequences(decoder_target_train, maxlen=summary_max_len, padding='post')\n",
    "decoder_input_test = pad_sequences(decoder_input_test, maxlen=summary_max_len, padding='post')\n",
    "decoder_target_test = pad_sequences(decoder_target_test, maxlen=summary_max_len, padding='post')"
   ]
  },
  {
   "cell_type": "markdown",
   "id": "successful-alexandria",
   "metadata": {},
   "source": [
    "# 모델 설계하기"
   ]
  },
  {
   "cell_type": "code",
   "execution_count": 149,
   "id": "cosmetic-measurement",
   "metadata": {
    "scrolled": true
   },
   "outputs": [
    {
     "name": "stdout",
     "output_type": "stream",
     "text": [
      "WARNING:tensorflow:Layer lstm will not use cuDNN kernel since it doesn't meet the cuDNN kernel criteria. It will use generic GPU kernel as fallback when running on GPU\n",
      "WARNING:tensorflow:Layer lstm_1 will not use cuDNN kernel since it doesn't meet the cuDNN kernel criteria. It will use generic GPU kernel as fallback when running on GPU\n",
      "WARNING:tensorflow:Layer lstm_2 will not use cuDNN kernel since it doesn't meet the cuDNN kernel criteria. It will use generic GPU kernel as fallback when running on GPU\n"
     ]
    }
   ],
   "source": [
    "from tensorflow.keras.layers import Input, LSTM, Embedding, Dense, Concatenate\n",
    "from tensorflow.keras.models import Model\n",
    "from tensorflow.keras.callbacks import EarlyStopping, ModelCheckpoint\n",
    "\n",
    "\n",
    "# 인코더 설계 시작\n",
    "embedding_dim = 128\n",
    "hidden_size = 256\n",
    "\n",
    "# 인코더\n",
    "encoder_inputs = Input(shape=(text_max_len,))\n",
    "\n",
    "# 인코더의 임베딩 층\n",
    "enc_emb = Embedding(src_vocab, embedding_dim)(encoder_inputs)\n",
    "\n",
    "# 인코더의 LSTM 1\n",
    "encoder_lstm1 = LSTM(hidden_size, return_sequences=True, return_state=True ,dropout = 0.4, recurrent_dropout = 0.4)\n",
    "encoder_output1, state_h1, state_c1 = encoder_lstm1(enc_emb)\n",
    "\n",
    "# 인코더의 LSTM 2\n",
    "encoder_lstm2 = LSTM(hidden_size, return_sequences=True, return_state=True, dropout=0.4, recurrent_dropout=0.4)\n",
    "encoder_output2, state_h2, state_c2 = encoder_lstm2(encoder_output1)\n",
    "\n",
    "# 인코더의 LSTM 3\n",
    "encoder_lstm3 = LSTM(hidden_size, return_state=True, return_sequences=True, dropout=0.4, recurrent_dropout=0.4)\n",
    "encoder_outputs, state_h, state_c= encoder_lstm3(encoder_output2)"
   ]
  },
  {
   "cell_type": "code",
   "execution_count": 150,
   "id": "legislative-macedonia",
   "metadata": {},
   "outputs": [
    {
     "name": "stdout",
     "output_type": "stream",
     "text": [
      "WARNING:tensorflow:Layer lstm_3 will not use cuDNN kernel since it doesn't meet the cuDNN kernel criteria. It will use generic GPU kernel as fallback when running on GPU\n"
     ]
    }
   ],
   "source": [
    "# 디코더 설계\n",
    "decoder_inputs = Input(shape=(None,))\n",
    "\n",
    "# 디코더의 임베딩 층\n",
    "dec_emb_layer = Embedding(tar_vocab, embedding_dim)\n",
    "dec_emb = dec_emb_layer(decoder_inputs)\n",
    "\n",
    "# 디코더의 LSTM\n",
    "decoder_lstm = LSTM(hidden_size, return_sequences=True, return_state=True, dropout=0.4, recurrent_dropout=0.2)\n",
    "decoder_outputs, _, _ = decoder_lstm(dec_emb, initial_state=[state_h, state_c])"
   ]
  },
  {
   "cell_type": "code",
   "execution_count": 151,
   "id": "armed-columbus",
   "metadata": {
    "scrolled": true
   },
   "outputs": [
    {
     "name": "stdout",
     "output_type": "stream",
     "text": [
      "Model: \"model\"\n",
      "__________________________________________________________________________________________________\n",
      "Layer (type)                    Output Shape         Param #     Connected to                     \n",
      "==================================================================================================\n",
      "input_1 (InputLayer)            [(None, 40)]         0                                            \n",
      "__________________________________________________________________________________________________\n",
      "embedding (Embedding)           (None, 40, 128)      1024000     input_1[0][0]                    \n",
      "__________________________________________________________________________________________________\n",
      "lstm (LSTM)                     [(None, 40, 256), (N 394240      embedding[0][0]                  \n",
      "__________________________________________________________________________________________________\n",
      "input_2 (InputLayer)            [(None, None)]       0                                            \n",
      "__________________________________________________________________________________________________\n",
      "lstm_1 (LSTM)                   [(None, 40, 256), (N 525312      lstm[0][0]                       \n",
      "__________________________________________________________________________________________________\n",
      "embedding_1 (Embedding)         (None, None, 128)    256000      input_2[0][0]                    \n",
      "__________________________________________________________________________________________________\n",
      "lstm_2 (LSTM)                   [(None, 40, 256), (N 525312      lstm_1[0][0]                     \n",
      "__________________________________________________________________________________________________\n",
      "lstm_3 (LSTM)                   [(None, None, 256),  394240      embedding_1[0][0]                \n",
      "                                                                 lstm_2[0][1]                     \n",
      "                                                                 lstm_2[0][2]                     \n",
      "__________________________________________________________________________________________________\n",
      "dense (Dense)                   (None, None, 2000)   514000      lstm_3[0][0]                     \n",
      "==================================================================================================\n",
      "Total params: 3,633,104\n",
      "Trainable params: 3,633,104\n",
      "Non-trainable params: 0\n",
      "__________________________________________________________________________________________________\n"
     ]
    }
   ],
   "source": [
    "# 디코더의 출력층\n",
    "decoder_softmax_layer = Dense(tar_vocab, activation='softmax')\n",
    "decoder_softmax_outputs = decoder_softmax_layer(decoder_outputs) \n",
    "\n",
    "# 모델 정의\n",
    "model = Model([encoder_inputs, decoder_inputs], decoder_softmax_outputs)\n",
    "model.summary()"
   ]
  },
  {
   "cell_type": "markdown",
   "id": "handled-software",
   "metadata": {},
   "source": [
    "# 어텐션 메커니즘"
   ]
  },
  {
   "cell_type": "code",
   "execution_count": 152,
   "id": "vertical-foundation",
   "metadata": {},
   "outputs": [],
   "source": [
    "urllib.request.urlretrieve(\"https://raw.githubusercontent.com/thushv89/attention_keras/master/src/layers/attention.py\", filename=\"attention.py\")\n",
    "from attention import AttentionLayer"
   ]
  },
  {
   "cell_type": "code",
   "execution_count": 153,
   "id": "saving-flood",
   "metadata": {
    "scrolled": true
   },
   "outputs": [
    {
     "name": "stdout",
     "output_type": "stream",
     "text": [
      "Model: \"model_1\"\n",
      "__________________________________________________________________________________________________\n",
      "Layer (type)                    Output Shape         Param #     Connected to                     \n",
      "==================================================================================================\n",
      "input_1 (InputLayer)            [(None, 40)]         0                                            \n",
      "__________________________________________________________________________________________________\n",
      "embedding (Embedding)           (None, 40, 128)      1024000     input_1[0][0]                    \n",
      "__________________________________________________________________________________________________\n",
      "lstm (LSTM)                     [(None, 40, 256), (N 394240      embedding[0][0]                  \n",
      "__________________________________________________________________________________________________\n",
      "input_2 (InputLayer)            [(None, None)]       0                                            \n",
      "__________________________________________________________________________________________________\n",
      "lstm_1 (LSTM)                   [(None, 40, 256), (N 525312      lstm[0][0]                       \n",
      "__________________________________________________________________________________________________\n",
      "embedding_1 (Embedding)         (None, None, 128)    256000      input_2[0][0]                    \n",
      "__________________________________________________________________________________________________\n",
      "lstm_2 (LSTM)                   [(None, 40, 256), (N 525312      lstm_1[0][0]                     \n",
      "__________________________________________________________________________________________________\n",
      "lstm_3 (LSTM)                   [(None, None, 256),  394240      embedding_1[0][0]                \n",
      "                                                                 lstm_2[0][1]                     \n",
      "                                                                 lstm_2[0][2]                     \n",
      "__________________________________________________________________________________________________\n",
      "attention_layer (AttentionLayer ((None, None, 256),  131328      lstm_2[0][0]                     \n",
      "                                                                 lstm_3[0][0]                     \n",
      "__________________________________________________________________________________________________\n",
      "concat_layer (Concatenate)      (None, None, 512)    0           lstm_3[0][0]                     \n",
      "                                                                 attention_layer[0][0]            \n",
      "__________________________________________________________________________________________________\n",
      "dense_1 (Dense)                 (None, None, 2000)   1026000     concat_layer[0][0]               \n",
      "==================================================================================================\n",
      "Total params: 4,276,432\n",
      "Trainable params: 4,276,432\n",
      "Non-trainable params: 0\n",
      "__________________________________________________________________________________________________\n"
     ]
    }
   ],
   "source": [
    "# 어텐션 층(어텐션 함수)\n",
    "attn_layer = AttentionLayer(name='attention_layer')\n",
    "# 인코더와 디코더의 모든 time step의 hidden state를 어텐션 층에 전달하고 결과를 리턴\n",
    "attn_out, attn_states = attn_layer([encoder_outputs, decoder_outputs])\n",
    "\n",
    "# 어텐션의 결과와 디코더의 hidden state들을 연결\n",
    "decoder_concat_input = Concatenate(axis=-1, name='concat_layer')([decoder_outputs, attn_out])\n",
    "\n",
    "# 디코더의 출력층\n",
    "decoder_softmax_layer = Dense(tar_vocab, activation='softmax')\n",
    "decoder_softmax_outputs = decoder_softmax_layer(decoder_concat_input)\n",
    "\n",
    "# 모델 정의\n",
    "model = Model([encoder_inputs, decoder_inputs], decoder_softmax_outputs)\n",
    "model.summary()"
   ]
  },
  {
   "cell_type": "code",
   "execution_count": 154,
   "id": "eastern-stream",
   "metadata": {
    "scrolled": true
   },
   "outputs": [
    {
     "name": "stdout",
     "output_type": "stream",
     "text": [
      "Epoch 1/50\n",
      "232/232 [==============================] - 142s 564ms/step - loss: 4.7603 - val_loss: 4.1076\n",
      "Epoch 2/50\n",
      "232/232 [==============================] - 129s 558ms/step - loss: 4.0321 - val_loss: 3.8040\n",
      "Epoch 3/50\n",
      "232/232 [==============================] - 129s 557ms/step - loss: 3.7204 - val_loss: 3.5867\n",
      "Epoch 4/50\n",
      "232/232 [==============================] - 129s 555ms/step - loss: 3.4979 - val_loss: 3.4294\n",
      "Epoch 5/50\n",
      "232/232 [==============================] - 127s 549ms/step - loss: 3.3349 - val_loss: 3.3037\n",
      "Epoch 6/50\n",
      "232/232 [==============================] - 125s 539ms/step - loss: 3.1999 - val_loss: 3.2085\n",
      "Epoch 7/50\n",
      "232/232 [==============================] - 125s 538ms/step - loss: 3.0799 - val_loss: 3.1265\n",
      "Epoch 8/50\n",
      "232/232 [==============================] - 125s 539ms/step - loss: 2.9702 - val_loss: 3.0632\n",
      "Epoch 9/50\n",
      "232/232 [==============================] - 125s 539ms/step - loss: 2.8773 - val_loss: 3.0025\n",
      "Epoch 10/50\n",
      "232/232 [==============================] - 124s 537ms/step - loss: 2.7774 - val_loss: 2.9604\n",
      "Epoch 11/50\n",
      "232/232 [==============================] - 125s 538ms/step - loss: 2.7097 - val_loss: 2.9288\n",
      "Epoch 12/50\n",
      "232/232 [==============================] - 125s 538ms/step - loss: 2.6444 - val_loss: 2.8981\n",
      "Epoch 13/50\n",
      "232/232 [==============================] - 125s 538ms/step - loss: 2.5818 - val_loss: 2.8676\n",
      "Epoch 14/50\n",
      "232/232 [==============================] - 125s 537ms/step - loss: 2.5311 - val_loss: 2.8480\n",
      "Epoch 15/50\n",
      "232/232 [==============================] - 125s 538ms/step - loss: 2.4780 - val_loss: 2.8383\n",
      "Epoch 16/50\n",
      "232/232 [==============================] - 125s 539ms/step - loss: 2.4273 - val_loss: 2.8244\n",
      "Epoch 17/50\n",
      "232/232 [==============================] - 125s 539ms/step - loss: 2.3915 - val_loss: 2.8180\n",
      "Epoch 18/50\n",
      "232/232 [==============================] - 125s 538ms/step - loss: 2.3450 - val_loss: 2.8028\n",
      "Epoch 19/50\n",
      "232/232 [==============================] - 124s 537ms/step - loss: 2.3086 - val_loss: 2.8020\n",
      "Epoch 20/50\n",
      "232/232 [==============================] - 125s 539ms/step - loss: 2.2704 - val_loss: 2.7971\n",
      "Epoch 21/50\n",
      "232/232 [==============================] - 125s 538ms/step - loss: 2.2362 - val_loss: 2.7977\n",
      "Epoch 22/50\n",
      "232/232 [==============================] - 125s 537ms/step - loss: 2.1972 - val_loss: 2.7828\n",
      "Epoch 23/50\n",
      "232/232 [==============================] - 125s 537ms/step - loss: 2.1657 - val_loss: 2.7863\n",
      "Epoch 24/50\n",
      "232/232 [==============================] - 125s 539ms/step - loss: 2.1457 - val_loss: 2.7836\n",
      "Epoch 00024: early stopping\n"
     ]
    }
   ],
   "source": [
    "model.compile(optimizer='rmsprop', loss='sparse_categorical_crossentropy')\n",
    "es = EarlyStopping(monitor='val_loss', patience=2, verbose=1)\n",
    "history = model.fit(x=[encoder_input_train, decoder_input_train], y=decoder_target_train, \\\n",
    "          validation_data=([encoder_input_test, decoder_input_test], decoder_target_test), \\\n",
    "          batch_size=256, callbacks=[es], epochs=50)"
   ]
  },
  {
   "cell_type": "markdown",
   "id": "important-noise",
   "metadata": {},
   "source": [
    "- early stopping\n",
    "    - 특정 조건 만족하면 훈련 멈추는 역할\n",
    "- patience =2\n",
    "    - 손실이 줄어들지않고 증가하는 현상이 2회 반복되면 학습 멈추기\n",
    "   "
   ]
  },
  {
   "cell_type": "code",
   "execution_count": 157,
   "id": "adverse-queens",
   "metadata": {},
   "outputs": [
    {
     "data": {
      "image/png": "[encoded data removed]",
      "text/plain": [
       "<Figure size 432x288 with 1 Axes>"
      ]
     },
     "metadata": {
      "needs_background": "light"
     },
     "output_type": "display_data"
    }
   ],
   "source": [
    "plt.plot(history.history['loss'], label='train')\n",
    "plt.plot(history.history['val_loss'], label='test')\n",
    "plt.legend()\n",
    "plt.show()"
   ]
  },
  {
   "cell_type": "markdown",
   "id": "natural-frontier",
   "metadata": {},
   "source": [
    "# 인퍼런스 모델 구현하기\n",
    "- 테스트 단계\n",
    "    - 정수 인덱스 행렬로 존재하던 텍스트 데이터 --> 실제 데이터 복원"
   ]
  },
  {
   "cell_type": "code",
   "execution_count": 158,
   "id": "stopped-visibility",
   "metadata": {},
   "outputs": [],
   "source": [
    "src_index_to_word = src_tokenizer.index_word # 원문 단어 집합에서 정수 -> 단어를 얻음\n",
    "tar_word_to_index = tar_tokenizer.word_index # 요약 단어 집합에서 단어 -> 정수를 얻음\n",
    "tar_index_to_word = tar_tokenizer.index_word # 요약 단어 집합에서 정수 -> 단어를 얻음"
   ]
  },
  {
   "cell_type": "code",
   "execution_count": 160,
   "id": "eastern-transaction",
   "metadata": {},
   "outputs": [],
   "source": [
    "# 인코더 설계\n",
    "encoder_model = Model(inputs=encoder_inputs, outputs=[encoder_outputs, state_h, state_c])\n",
    "\n",
    "# 문장의 \n",
    "# 이전 시점의 상태들을 저장하는 텐서\n",
    "decoder_state_input_h = Input(shape=(hidden_size,))\n",
    "decoder_state_input_c = Input(shape=(hidden_size,))\n",
    "\n",
    "dec_emb2 = dec_emb_layer(decoder_inputs)\n",
    "# 다음 단어를 예측하기 위해서 초기 상태(initial_state)를 이전 시점의 상태로 사용. 이는 뒤의 함수 decode_sequence()에 구현\n",
    "# 훈련 과정에서와 달리 LSTM의 리턴하는 은닉 상태와 셀 상태인 state_h와 state_c를 버리지 않음.\n",
    "decoder_outputs2, state_h2, state_c2 = decoder_lstm(dec_emb2, initial_state=[decoder_state_input_h, decoder_state_input_c])"
   ]
  },
  {
   "cell_type": "code",
   "execution_count": 161,
   "id": "korean-workshop",
   "metadata": {},
   "outputs": [],
   "source": [
    "# 어텐션 함수\n",
    "decoder_hidden_state_input = Input(shape=(text_max_len, hidden_size))\n",
    "attn_out_inf, attn_states_inf = attn_layer([decoder_hidden_state_input, decoder_outputs2])\n",
    "decoder_inf_concat = Concatenate(axis=-1, name='concat')([decoder_outputs2, attn_out_inf])\n",
    "\n",
    "# 디코더의 출력층\n",
    "decoder_outputs2 = decoder_softmax_layer(decoder_inf_concat) \n",
    "\n",
    "# 최종 디코더 모델\n",
    "decoder_model = Model(\n",
    "    [decoder_inputs] + [decoder_hidden_state_input,decoder_state_input_h, decoder_state_input_c],\n",
    "    [decoder_outputs2] + [state_h2, state_c2])"
   ]
  },
  {
   "cell_type": "code",
   "execution_count": 162,
   "id": "floating-headline",
   "metadata": {},
   "outputs": [],
   "source": [
    "def decode_sequence(input_seq):\n",
    "    # 입력으로부터 인코더의 상태를 얻음\n",
    "    e_out, e_h, e_c = encoder_model.predict(input_seq)\n",
    "\n",
    "     # <SOS>에 해당하는 토큰 생성\n",
    "    target_seq = np.zeros((1,1))\n",
    "    target_seq[0, 0] = tar_word_to_index['sostoken']\n",
    "\n",
    "    stop_condition = False\n",
    "    decoded_sentence = ''\n",
    "    while not stop_condition: # stop_condition이 True가 될 때까지 루프 반복\n",
    "\n",
    "        output_tokens, h, c = decoder_model.predict([target_seq] + [e_out, e_h, e_c])\n",
    "        sampled_token_index = np.argmax(output_tokens[0, -1, :])\n",
    "        sampled_token = tar_index_to_word[sampled_token_index]\n",
    "\n",
    "        if (sampled_token!='eostoken'):\n",
    "            decoded_sentence += ' '+sampled_token\n",
    "\n",
    "        #  <eos>에 도달하거나 최대 길이를 넘으면 중단.\n",
    "        if (sampled_token == 'eostoken'  or len(decoded_sentence.split()) >= (summary_max_len-1)):\n",
    "            stop_condition = True\n",
    "\n",
    "        # 길이가 1인 타겟 시퀀스를 업데이트\n",
    "        target_seq = np.zeros((1,1))\n",
    "        target_seq[0, 0] = sampled_token_index\n",
    "\n",
    "        # 상태를 업데이트 합니다.\n",
    "        e_h, e_c = h, c\n",
    "\n",
    "    return decoded_sentence"
   ]
  },
  {
   "cell_type": "code",
   "execution_count": 163,
   "id": "isolated-optimum",
   "metadata": {},
   "outputs": [],
   "source": [
    "# 원문의 정수 시퀀스를 텍스트 시퀀스로 변환\n",
    "def seq2text(input_seq):\n",
    "    temp=''\n",
    "    for i in input_seq:\n",
    "        if (i!=0):\n",
    "            temp = temp + src_index_to_word[i]+' '\n",
    "    return temp\n",
    "\n",
    "# 요약문의 정수 시퀀스를 텍스트 시퀀스로 변환\n",
    "def seq2summary(input_seq):\n",
    "    temp=''\n",
    "    for i in input_seq:\n",
    "        if ((i!=0 and i!=tar_word_to_index['sostoken']) and i!=tar_word_to_index['eostoken']):\n",
    "            temp = temp + tar_index_to_word[i] + ' '\n",
    "    return temp"
   ]
  },
  {
   "cell_type": "markdown",
   "id": "biological-mounting",
   "metadata": {},
   "source": [
    "# 추출적 요약(Extractive Summarize)\n",
    "# seq2seq2 이용"
   ]
  },
  {
   "cell_type": "code",
   "execution_count": 164,
   "id": "neutral-overall",
   "metadata": {
    "scrolled": true
   },
   "outputs": [
    {
     "name": "stdout",
     "output_type": "stream",
     "text": [
      "원문 : supreme court monday referred five judge bench plea seeking declaration practice female community amounts female plea claimed practice violates right life dignity women association religious freedom defended saying different \n",
      "실제 요약 : sc plea on female to judge \n",
      "예측 요약 :  sc judge to women for\n",
      "\n",
      "\n",
      "원문 : tribal couple stripped naked village rajasthan friday woman ex husband aides several villagers followed couple made videos incident later circulated social media police detained ex husband three others accused case victims mob \n",
      "실제 요약 : couple naked in rajasthan by woman ex husband \n",
      "예측 요약 :  couple woman for wearing in\n",
      "\n",
      "\n",
      "원문 : actor aditya acquitted bandra metropolitan court assault case facing trial charged assaulting outside night club march later granted bail paying court reportedly observed evidence provided enough prove guilty \n",
      "실제 요약 : in assault case over of evidence \n",
      "예측 요약 :  court who suspended for assaulting time\n",
      "\n",
      "\n",
      "원문 : rajiv kumar took vice chairman national institution india aayog saturday senior fellow centre policy research secretary general federation indian commerce industry earlier also served chief economist indian industry \n",
      "실제 요약 : who is kumar new vice chairman of \n",
      "예측 요약 :  appointed as india\n",
      "\n",
      "\n",
      "원문 : actor rajkummar rao social media shared picture upcoming web series freedom fighter chandra bose seen sporting half look photographs filmmaker hansal mehta clarified twitter test picture rao first look bose series \n",
      "실제 요약 : rajkummar shares test look for upcoming web series on \n",
      "예측 요약 :  rajkummar rao shares pic with\n",
      "\n",
      "\n",
      "원문 : us based couple sentenced nearly six years jail defrauding online retailer amazon million consumer electronics along couple year old also sentenced two years jail trio exploited amazon repeatedly falsely claiming electronics ordered damaged receiving amazon charge \n",
      "실제 요약 : us couple who amazon of mn jailed for years \n",
      "예측 요약 :  us couple jailed over bn fraud\n",
      "\n",
      "\n",
      "원문 : first new york university scientists proven water hydrogen researchers also found transport water temperature proof team exploited property ice liquid water currently looking industrial applications study \n",
      "실제 요약 : us researchers new of water \n",
      "예측 요약 :  first ever water made in the water\n",
      "\n",
      "\n",
      "원문 : us startup offering employees lakh leave bay area since rent region almost doubled last five years offer employees commit work least one year work great company live want said ceo \n",
      "실제 요약 : startup offers employees lakh each to leave \n",
      "예측 요약 :  us startup employees pay tribute to pay\n",
      "\n",
      "\n",
      "원문 : jail india largest prison got first open air look fitness prisoners gym located park inside jail number four fitness equipment currently though assigned prisoners gym reportedly mostly used elderly prisoners facing health problems like \n",
      "실제 요약 : india largest jail gets its first open air \n",
      "예측 요약 :  world largest prison in china\n",
      "\n",
      "\n",
      "원문 : epic games creator popular battle game apologised adding breast female character game us let ship epic spokesperson said company said roll back changes introduced season update \n",
      "실제 요약 : maker apologises for \n",
      "예측 요약 :  apologises for racist on instagram\n",
      "\n",
      "\n",
      "원문 : railway minister piyush goyal said government aggressive plans railways land station assets added would satisfied amount capital allocation railways upcoming budget said government planning extend lease period railways land assets years years \n",
      "실제 요약 : have plans to rail assets minister \n",
      "예측 요약 :  railways to railway stations in\n",
      "\n",
      "\n",
      "원문 : real madrid defeated clinch record rd la liga title first five year gap sunday cristiano ronaldo scored second minute take league tally th minute strike barcelona needed win alongside real lose win league defeated \n",
      "실제 요약 : real madrid record rd title \n",
      "예측 요약 :  real madrid man scores in minutes\n",
      "\n",
      "\n",
      "원문 : australian pm scott apologised posting video featuring song social media posted video mps raising hands parliament lyrics song said asked video taken found laden lyrics \n",
      "실제 요약 : australia pm apologises for using song in video \n",
      "예측 요약 :  australian spinner apologises for to\n",
      "\n",
      "\n",
      "원문 : year old us girl left critically injured skull attempted viral challenge recently said last thing opening car door taken hospital accident skull blood bleeding brain \n",
      "실제 요약 : challenge attempt leaves us teen with \n",
      "예측 요약 :  us teen accidentally accidentally him\n",
      "\n",
      "\n",
      "원문 : delhi cabinet monday approved government jobs city respective fields rules notified within one month delhi chief minister arvind kejriwal tweeted earlier august delhi cabinet increased cash achievements olympics asian games commonwealth games \n",
      "실제 요약 : delhi approves government jobs for from delhi \n",
      "예측 요약 :  delhi cabinet approves new tourism minister\n",
      "\n",
      "\n",
      "원문 : comedian abhishek speaking kapil sharma sunil grover row said two good friends friends fight added kapil well show success people making big deal meanwhile kapil admitted facebook post shouted sunil flight recently \n",
      "실제 요약 : kapil sunil are good friends and friends fight \n",
      "예측 요약 :  kapil sharma sunil to sunil\n",
      "\n",
      "\n",
      "원문 : actor salman khan launching hussain lead actress opposite brother law aayush sharma upcoming production film also mark acting debut aayush earlier salman tweeted resulting reports said get married soon \n",
      "실제 요약 : salman to launch his brother in law \n",
      "예측 요약 :  salman to launch in reports\n",
      "\n",
      "\n",
      "원문 : mumbai based commerce lifestyle brand label life raised crore private equity arm financial services group funding brand focus founder said label life clothing accessories products khan malaika arora basu \n",
      "실제 요약 : brand the life raises crore \n",
      "예측 요약 :  fashion brand raises crore\n",
      "\n",
      "\n",
      "원문 : former punjab cm singh badal declined offer free government accommodation made current cm amarinder singh led punjab government badal said singh gesture adding make arrangements stay badal dal alliance bjp could win seats punjab \n",
      "실제 요약 : ex punjab cm offer of free govt house \n",
      "예측 요약 :  mp cm announces funds for farmers\n",
      "\n",
      "\n",
      "원문 : picture actor salman khan sets upcoming film tiger zinda hai surfaced online seen co star shah crew members picture directed ali abbas zafar also starring actress katrina kaif tiger zinda hai scheduled release december \n",
      "실제 요약 : salman picture from tiger hai sets online \n",
      "예측 요약 :  pic of salman katrina on sets of tiger hai\n",
      "\n",
      "\n",
      "원문 : newly woman reportedly set fire saturday uttar pradesh two men earlier tried men brothers allegedly set ablaze filing police complaint suffered burns incident critical condition police said \n",
      "실제 요약 : up woman set on fire by for complaint \n",
      "예측 요약 :  woman gangraped by men in fire\n",
      "\n",
      "\n",
      "원문 : tuesday moon reached closest point orbit around earth distance roughly km full moon phase reached hours later creating appear larger smallest full moon difference naked eye \n",
      "실제 요약 : india the first of \n",
      "예측 요약 :  earth day moon\n",
      "\n",
      "\n",
      "원문 : indian air force tuesday rescued female american citizen stone stranded jammu kashmir nearly days stone critical condition iaf located stranded suffering injury us embassy asked iaf help defence ministry \n",
      "실제 요약 : iaf american woman stranded for days in \n",
      "예측 요약 :  iaf rescued from in\n",
      "\n",
      "\n",
      "원문 : woman pakistan punjab province chopped year old boy right hand fodder cutting machine allegedly teach lesson demanded salary without completing job feeding cattle police initially refused register case woman directed district sessions court \n",
      "실제 요약 : year old pak boy hand off for salary \n",
      "예측 요약 :  pak woman offers to buy for\n",
      "\n",
      "\n",
      "원문 : prime minister benjamin netanyahu said country us act israel palestine conflict palestinian president abbas want us want peace netanyahu said comes said us longer suitable role peace process \n",
      "실제 요약 : no for us in peace israel \n",
      "예측 요약 :  israel pm calls us cm\n",
      "\n",
      "\n",
      "원문 : many people killed others wounded mosque attack took place friday egypt north province general prosecutor said egypt military retaliation carried air strikes saturday militants attack deadliest country carried militants added \n",
      "실제 요약 : egypt mosque terror attack death toll rises to \n",
      "예측 요약 :  killed in egypt mosque attack\n",
      "\n",
      "\n",
      "원문 : indian captain virat kohli missing test australia shoulder injury carried drinks onto field team saturday kohli missing test match first time since november tests team led vice captain ajinkya rahane became india rd test captain \n",
      "실제 요약 : virat kohli for team during test \n"
     ]
    },
    {
     "name": "stdout",
     "output_type": "stream",
     "text": [
      "예측 요약 :  kohli loses in test for st time\n",
      "\n",
      "\n",
      "원문 : flying wimbledon courts wednesday causing players forced away american complained chair umpire said umpire complaint playing court said nose hair \n",
      "실제 요약 : of flying the at wimbledon \n",
      "예측 요약 :  footballer who out of\n",
      "\n",
      "\n",
      "원문 : founder chinese live streaming platform former journalist become billionaire billion fortune shares last year owns platform million users china become largest market live streaming revenue expected reach billion according report \n",
      "실제 요약 : how did live make ex journalist billionaire \n",
      "예측 요약 :  china richest person in bn\n",
      "\n",
      "\n",
      "원문 : harry potter among code names given eight protected witnesses national investigation agency kashmir terror funding case witnesses gave statements businessman granted bail thursday delhi high court got bail lawyer told court client provided witnesses statements \n",
      "실제 요약 : harry were in kashmir terror funding case \n",
      "예측 요약 :  harry to get married to\n",
      "\n",
      "\n",
      "원문 : china pakistan decided extend china pakistan economic corridor project towards afghanistan chinese foreign ministry said two countries speed project extend towards western pakistan enable people benefit project aims link china pakistan port \n",
      "실제 요약 : china and pakistan to afghanistan \n",
      "예측 요약 :  china pakistan to india\n",
      "\n",
      "\n",
      "원문 : salman khan required take permission court every time abroad sessions court jodhpur granted application submitted making request however salman required keep court informed plans leaving country including dates location stay \n",
      "실제 요약 : salman won to travel court \n",
      "예측 요약 :  salman khan named in court\n",
      "\n",
      "\n",
      "원문 : lakh passengers tell flights cancelled apologising ceo michael said travellers never fly airline would certainly return due low fares earlier said would cancel flights daily october due staff leave \n",
      "실제 요약 : airline messages lakh passengers about cancelled flights \n",
      "예측 요약 :  fee to be auctioned for\n",
      "\n",
      "\n",
      "원문 : photo jodhpur central jail showing criminal rakesh cutting cake birthday jail gone viral criminals including devi murder case accused ram kailash also photo jail authorities unaware cake brought photo clicked \n",
      "실제 요약 : criminal cuts inside central jail pic goes viral \n",
      "예측 요약 :  singer who married in jail\n",
      "\n",
      "\n",
      "원문 : billionaire elon musk asked american magazine rolling stone journalist neil anybody date revealed recent article musk said looking long term relationship serious also added love cannot happy \n",
      "실제 요약 : is there should date elon musk asks journalist \n",
      "예측 요약 :  elon musk shares of his statue\n",
      "\n",
      "\n",
      "원문 : nasa called firm owned actor stickers promoted website lifestyle brand claimed stickers made carbon material nasa uses line space however nasa dismissed claims removed apologised misleading customers \n",
      "실제 요약 : nasa actor firm claims \n",
      "예측 요약 :  nasa image of that\n",
      "\n",
      "\n",
      "원문 : filmmaker vikram bhatt revealed want marry either actress sushmita sen patel reportedly dated added like speaking cheating wife bhatt said regret hurting wife child \n",
      "실제 요약 : did not want to marry or \n",
      "예측 요약 :  am not to marry girlfriend on\n",
      "\n",
      "\n",
      "원문 : prime minister narendra modi friday addressed sri lankan tamil tea workers saying special association tea modi ran tea said hospital visit sri lanka modi earlier announced direct flight constituency varanasi sri lankan capital \n",
      "실제 요약 : have special with pm to sl workers \n",
      "예측 요약 :  pm modi to pay for\n",
      "\n",
      "\n",
      "원문 : many villages gurugram announced plans pay property tax municipal corporation gurugram claiming civic body claim villagers alleged worth crores illegally transferred brought jurisdiction \n",
      "실제 요약 : to pay property tax to gurugram civic body \n",
      "예측 요약 :  gurugram civic body to pay tax\n",
      "\n",
      "\n",
      "원문 : uk high court ruling allowed indian banks sell liquor vijay mallya assets england wales recover debt court upheld karnataka debt tribunal ruling said mallya pay crore refused worldwide freezing order mallya removing assets \n",
      "실제 요약 : banks can now sell mallya england assets to debt \n",
      "예측 요약 :  uk court allows uk court to fine for cr\n",
      "\n",
      "\n",
      "원문 : karnataka state flag designed kannada writer activist pro kannada political party flag red colour stands yellow stands well state people flag adopted state formation day every year since \n",
      "실제 요약 : what does the design of karnataka state flag \n",
      "예측 요약 :  karnataka flag on flag\n",
      "\n",
      "\n",
      "원문 : speaking event rajasthan university state education minister said indian discovered law gravity years english scientist newton questioning included educational said mechanism theory developed later modern scientists \n",
      "실제 요약 : discovered not raj minister \n",
      "예측 요약 :  humans should be used in rajasthan minister\n",
      "\n",
      "\n",
      "원문 : sharing look upcoming film india wanted arjun kapoor wrote self belief character unlike played introducing character film wrote meet film release may reportedly secret mission leads arrest terrorist \n",
      "실제 요약 : any have played before arjun on film look \n",
      "예측 요약 :  first look of shraddha kapoor\n",
      "\n",
      "\n",
      "원문 : infosys co founder narayana murthy called laws many laws british rule aim freedom people said emphasised need train bureaucrats laws increasing number judges ensure justice \n",
      "실제 요약 : old british set them to freedom \n",
      "예측 요약 :  infosys has to tourists\n",
      "\n",
      "\n",
      "원문 : following passing away former pm atal bihari vajpayee president ram nath kovind tweeted giant missed one referring true indian wrote leadership put league former pm passed away aged new delhi nnn \n",
      "실제 요약 : the will be by all president \n",
      "예측 요약 :  pm vajpayee with\n",
      "\n",
      "\n",
      "원문 : woman left newborn baby bathroom us airport reportedly gave birth inside airport baby left note read please help please get authorities find good home authorities hoping identify mother \n",
      "실제 요약 : woman gives birth in us airport baby in \n",
      "예측 요약 :  woman baby baby on flight\n",
      "\n",
      "\n",
      "원문 : militants allegedly abducted police constable residence jammu kashmir friday mohammad shah receiving training kathua taken leave institute visit home incident occurred earlier month cop found dead shopian day abducted suspected militants \n",
      "실제 요약 : militants from his home \n",
      "예측 요약 :  militants abducted by men in chhattisgarh\n",
      "\n",
      "\n",
      "원문 : north korea sunday test fired another ballistic missile landed sea japan covering kilometres first move north korea since south korea new president moon jae took office moon called launch us said north korea far long \n",
      "실제 요약 : north korea out another missile test \n",
      "예측 요약 :  north korea fires missile test\n",
      "\n",
      "\n",
      "원문 : us president donald trump wednesday signed right try bill gives ill patients right seek approved government patients seeking access drugs longer need permission food drug administration require approval drug manufacturer \n",
      "실제 요약 : us allows ill patients to drugs \n",
      "예측 요약 :  trump signs right to ban\n",
      "\n",
      "\n",
      "원문 : section imposed maharashtra thane till january violent clashes th anniversary celebration bhima koregaon battle pune district protestors halted trains thane railway station wednesday dalit outfits called bandh several schools thane shut security concerns \n",
      "실제 요약 : in till jan after maha violence \n",
      "예측 요약 :  maha govt to celebrate day\n",
      "\n",
      "\n"
     ]
    }
   ],
   "source": [
    "for i in range(50, 100):\n",
    "    print(\"원문 :\", seq2text(encoder_input_test[i]))\n",
    "    print(\"실제 요약 :\", seq2summary(decoder_input_test[i]))\n",
    "    print(\"예측 요약 :\", decode_sequence(encoder_input_test[i].reshape(1, text_max_len)))\n",
    "    print(\"\\n\")"
   ]
  },
  {
   "cell_type": "markdown",
   "id": "atlantic-fishing",
   "metadata": {},
   "source": [
    "# 추상적 요약 (Abstractive Summarize)\n",
    "# 뉴스기사 Summarize하기 - summarize와 keyword함수 사용"
   ]
  },
  {
   "cell_type": "code",
   "execution_count": 293,
   "id": "statewide-assessment",
   "metadata": {},
   "outputs": [],
   "source": [
    "import requests\n",
    "from summa.summarizer import summarize"
   ]
  },
  {
   "cell_type": "code",
   "execution_count": 331,
   "id": "artistic-davis",
   "metadata": {},
   "outputs": [
    {
     "data": {
      "text/html": [
       "<div>\n",
       "<style scoped>\n",
       "    .dataframe tbody tr th:only-of-type {\n",
       "        vertical-align: middle;\n",
       "    }\n",
       "\n",
       "    .dataframe tbody tr th {\n",
       "        vertical-align: top;\n",
       "    }\n",
       "\n",
       "    .dataframe thead th {\n",
       "        text-align: right;\n",
       "    }\n",
       "</style>\n",
       "<table border=\"1\" class=\"dataframe\">\n",
       "  <thead>\n",
       "    <tr style=\"text-align: right;\">\n",
       "      <th></th>\n",
       "      <th>Text</th>\n",
       "      <th>summary</th>\n",
       "      <th>keyword</th>\n",
       "    </tr>\n",
       "  </thead>\n",
       "  <tbody>\n",
       "    <tr>\n",
       "      <th>0</th>\n",
       "      <td>new zealand defeated india wickets fourth odi ...</td>\n",
       "      <td>0</td>\n",
       "      <td>0</td>\n",
       "    </tr>\n",
       "    <tr>\n",
       "      <th>1</th>\n",
       "      <td>aegon life iterm insurance plan customers enjo...</td>\n",
       "      <td>0</td>\n",
       "      <td>0</td>\n",
       "    </tr>\n",
       "    <tr>\n",
       "      <th>2</th>\n",
       "      <td>pakistani singer rahat fateh ali khan denied r...</td>\n",
       "      <td>0</td>\n",
       "      <td>0</td>\n",
       "    </tr>\n",
       "    <tr>\n",
       "      <th>3</th>\n",
       "      <td>congress candidate shafia zubair ramgarh assem...</td>\n",
       "      <td>0</td>\n",
       "      <td>0</td>\n",
       "    </tr>\n",
       "    <tr>\n",
       "      <th>4</th>\n",
       "      <td>two minor cousins uttar pradesh gorakhpur alle...</td>\n",
       "      <td>0</td>\n",
       "      <td>0</td>\n",
       "    </tr>\n",
       "    <tr>\n",
       "      <th>...</th>\n",
       "      <td>...</td>\n",
       "      <td>...</td>\n",
       "      <td>...</td>\n",
       "    </tr>\n",
       "    <tr>\n",
       "      <th>74097</th>\n",
       "      <td>pakistan started building nearly kilometer fen...</td>\n",
       "      <td>0</td>\n",
       "      <td>0</td>\n",
       "    </tr>\n",
       "    <tr>\n",
       "      <th>74098</th>\n",
       "      <td>crpf jawan tuesday axed death sharp edged weap...</td>\n",
       "      <td>0</td>\n",
       "      <td>0</td>\n",
       "    </tr>\n",
       "    <tr>\n",
       "      <th>74099</th>\n",
       "      <td>uff yeh first song sonakshi sinha starrer upco...</td>\n",
       "      <td>0</td>\n",
       "      <td>0</td>\n",
       "    </tr>\n",
       "    <tr>\n",
       "      <th>74100</th>\n",
       "      <td>according reports new version science fiction ...</td>\n",
       "      <td>0</td>\n",
       "      <td>0</td>\n",
       "    </tr>\n",
       "    <tr>\n",
       "      <th>74101</th>\n",
       "      <td>madhesi morcha alliance seven political partie...</td>\n",
       "      <td>0</td>\n",
       "      <td>0</td>\n",
       "    </tr>\n",
       "  </tbody>\n",
       "</table>\n",
       "<p>74102 rows × 3 columns</p>\n",
       "</div>"
      ],
      "text/plain": [
       "                                                    Text  summary  keyword\n",
       "0      new zealand defeated india wickets fourth odi ...        0        0\n",
       "1      aegon life iterm insurance plan customers enjo...        0        0\n",
       "2      pakistani singer rahat fateh ali khan denied r...        0        0\n",
       "3      congress candidate shafia zubair ramgarh assem...        0        0\n",
       "4      two minor cousins uttar pradesh gorakhpur alle...        0        0\n",
       "...                                                  ...      ...      ...\n",
       "74097  pakistan started building nearly kilometer fen...        0        0\n",
       "74098  crpf jawan tuesday axed death sharp edged weap...        0        0\n",
       "74099  uff yeh first song sonakshi sinha starrer upco...        0        0\n",
       "74100  according reports new version science fiction ...        0        0\n",
       "74101  madhesi morcha alliance seven political partie...        0        0\n",
       "\n",
       "[74102 rows x 3 columns]"
      ]
     },
     "execution_count": 331,
     "metadata": {},
     "output_type": "execute_result"
    }
   ],
   "source": [
    "text = pd.DataFrame({\"Text\" : data[\"Text\"],\n",
    "                     \"summary\": 0,\n",
    "                     \"keyword\" : 0})\n",
    "text.index = range(0,len(text))\n",
    "text"
   ]
  },
  {
   "cell_type": "markdown",
   "id": "funky-regard",
   "metadata": {},
   "source": [
    "## Summarize"
   ]
  },
  {
   "cell_type": "code",
   "execution_count": 332,
   "id": "ruled-climate",
   "metadata": {
    "scrolled": true
   },
   "outputs": [
    {
     "name": "stderr",
     "output_type": "stream",
     "text": [
      "  0%|          | 0/74102 [00:00<?, ?it/s]/opt/conda/lib/python3.7/site-packages/ipykernel_launcher.py:7: SettingWithCopyWarning: \n",
      "A value is trying to be set on a copy of a slice from a DataFrame\n",
      "\n",
      "See the caveats in the documentation: https://pandas.pydata.org/pandas-docs/stable/user_guide/indexing.html#returning-a-view-versus-a-copy\n",
      "  import sys\n",
      "/opt/conda/lib/python3.7/site-packages/pandas/core/indexing.py:1636: SettingWithCopyWarning: \n",
      "A value is trying to be set on a copy of a slice from a DataFrame\n",
      "\n",
      "See the caveats in the documentation: https://pandas.pydata.org/pandas-docs/stable/user_guide/indexing.html#returning-a-view-versus-a-copy\n",
      "  self._setitem_single_block(indexer, value, name)\n",
      "/opt/conda/lib/python3.7/site-packages/ipykernel_launcher.py:8: SettingWithCopyWarning: \n",
      "A value is trying to be set on a copy of a slice from a DataFrame\n",
      "\n",
      "See the caveats in the documentation: https://pandas.pydata.org/pandas-docs/stable/user_guide/indexing.html#returning-a-view-versus-a-copy\n",
      "  \n",
      "/opt/conda/lib/python3.7/site-packages/pandas/core/indexing.py:1636: SettingWithCopyWarning: \n",
      "A value is trying to be set on a copy of a slice from a DataFrame\n",
      "\n",
      "See the caveats in the documentation: https://pandas.pydata.org/pandas-docs/stable/user_guide/indexing.html#returning-a-view-versus-a-copy\n",
      "  self._setitem_single_block(indexer, value, name)\n",
      "100%|██████████| 74102/74102 [06:56<00:00, 178.04it/s]\n"
     ]
    },
    {
     "data": {
      "text/html": [
       "<div>\n",
       "<style scoped>\n",
       "    .dataframe tbody tr th:only-of-type {\n",
       "        vertical-align: middle;\n",
       "    }\n",
       "\n",
       "    .dataframe tbody tr th {\n",
       "        vertical-align: top;\n",
       "    }\n",
       "\n",
       "    .dataframe thead th {\n",
       "        text-align: right;\n",
       "    }\n",
       "</style>\n",
       "<table border=\"1\" class=\"dataframe\">\n",
       "  <thead>\n",
       "    <tr style=\"text-align: right;\">\n",
       "      <th></th>\n",
       "      <th>Text</th>\n",
       "      <th>summary</th>\n",
       "      <th>keyword</th>\n",
       "    </tr>\n",
       "  </thead>\n",
       "  <tbody>\n",
       "    <tr>\n",
       "      <th>0</th>\n",
       "      <td>new zealand defeated india wickets fourth odi ...</td>\n",
       "      <td></td>\n",
       "      <td>odi\\nindia\\nmatch\\nconsecutive victories</td>\n",
       "    </tr>\n",
       "    <tr>\n",
       "      <th>1</th>\n",
       "      <td>aegon life iterm insurance plan customers enjo...</td>\n",
       "      <td></td>\n",
       "      <td>life\\nbenefit\\ntax benefits\\ninsurance\\ninsure...</td>\n",
       "    </tr>\n",
       "    <tr>\n",
       "      <th>2</th>\n",
       "      <td>pakistani singer rahat fateh ali khan denied r...</td>\n",
       "      <td></td>\n",
       "      <td>reads press release issued\\nallegedly\\nallegation</td>\n",
       "    </tr>\n",
       "    <tr>\n",
       "      <th>3</th>\n",
       "      <td>congress candidate shafia zubair ramgarh assem...</td>\n",
       "      <td></td>\n",
       "      <td>seats\\nramgarh assembly seat\\ncandidate\\nsingh</td>\n",
       "    </tr>\n",
       "    <tr>\n",
       "      <th>4</th>\n",
       "      <td>two minor cousins uttar pradesh gorakhpur alle...</td>\n",
       "      <td></td>\n",
       "      <td>cousins\\ngorakhpur\\nfamily\\ncommittee\\nescape</td>\n",
       "    </tr>\n",
       "    <tr>\n",
       "      <th>...</th>\n",
       "      <td>...</td>\n",
       "      <td>...</td>\n",
       "      <td>...</td>\n",
       "    </tr>\n",
       "    <tr>\n",
       "      <th>74097</th>\n",
       "      <td>pakistan started building nearly kilometer fen...</td>\n",
       "      <td></td>\n",
       "      <td>reports\\nafghan militants reportedly\\nborder\\n...</td>\n",
       "    </tr>\n",
       "    <tr>\n",
       "      <th>74098</th>\n",
       "      <td>crpf jawan tuesday axed death sharp edged weap...</td>\n",
       "      <td></td>\n",
       "      <td>jawan\\nmaoists\\nfair\\nassailants\\npolice\\nbijapur</td>\n",
       "    </tr>\n",
       "    <tr>\n",
       "      <th>74099</th>\n",
       "      <td>uff yeh first song sonakshi sinha starrer upco...</td>\n",
       "      <td></td>\n",
       "      <td>uff yeh\\nfilm\\nreleased\\nrelease\\nsong sonakshi</td>\n",
       "    </tr>\n",
       "    <tr>\n",
       "      <th>74100</th>\n",
       "      <td>according reports new version science fiction ...</td>\n",
       "      <td></td>\n",
       "      <td>film\\nreports\\nreportedly\\nkeanu reeves\\npenn</td>\n",
       "    </tr>\n",
       "    <tr>\n",
       "      <th>74101</th>\n",
       "      <td>madhesi morcha alliance seven political partie...</td>\n",
       "      <td></td>\n",
       "      <td>seven\\nsupport\\nmorcha\\ngovernment\\nrevised co...</td>\n",
       "    </tr>\n",
       "  </tbody>\n",
       "</table>\n",
       "<p>74102 rows × 3 columns</p>\n",
       "</div>"
      ],
      "text/plain": [
       "                                                    Text summary  \\\n",
       "0      new zealand defeated india wickets fourth odi ...           \n",
       "1      aegon life iterm insurance plan customers enjo...           \n",
       "2      pakistani singer rahat fateh ali khan denied r...           \n",
       "3      congress candidate shafia zubair ramgarh assem...           \n",
       "4      two minor cousins uttar pradesh gorakhpur alle...           \n",
       "...                                                  ...     ...   \n",
       "74097  pakistan started building nearly kilometer fen...           \n",
       "74098  crpf jawan tuesday axed death sharp edged weap...           \n",
       "74099  uff yeh first song sonakshi sinha starrer upco...           \n",
       "74100  according reports new version science fiction ...           \n",
       "74101  madhesi morcha alliance seven political partie...           \n",
       "\n",
       "                                                 keyword  \n",
       "0               odi\\nindia\\nmatch\\nconsecutive victories  \n",
       "1      life\\nbenefit\\ntax benefits\\ninsurance\\ninsure...  \n",
       "2      reads press release issued\\nallegedly\\nallegation  \n",
       "3         seats\\nramgarh assembly seat\\ncandidate\\nsingh  \n",
       "4          cousins\\ngorakhpur\\nfamily\\ncommittee\\nescape  \n",
       "...                                                  ...  \n",
       "74097  reports\\nafghan militants reportedly\\nborder\\n...  \n",
       "74098  jawan\\nmaoists\\nfair\\nassailants\\npolice\\nbijapur  \n",
       "74099    uff yeh\\nfilm\\nreleased\\nrelease\\nsong sonakshi  \n",
       "74100      film\\nreports\\nreportedly\\nkeanu reeves\\npenn  \n",
       "74101  seven\\nsupport\\nmorcha\\ngovernment\\nrevised co...  \n",
       "\n",
       "[74102 rows x 3 columns]"
      ]
     },
     "execution_count": 332,
     "metadata": {},
     "output_type": "execute_result"
    }
   ],
   "source": [
    "from tqdm import tqdm \n",
    "import time\n",
    "\n",
    "\n",
    "from summa import keywords\n",
    "for i in tqdm(range(len(text))):\n",
    "    text[\"summary\"][i] = summarize(Text[i])\n",
    "    text[\"keyword\"][i] = keywords.keywords(text[\"Text\"][i])\n",
    "text"
   ]
  },
  {
   "cell_type": "markdown",
   "id": "filled-applicant",
   "metadata": {},
   "source": [
    "# summarize가 안되는 이유 고찰"
   ]
  },
  {
   "cell_type": "markdown",
   "id": "innovative-municipality",
   "metadata": {},
   "source": [
    "![image](https://user-images.githubusercontent.com/68802402/129713445-5dc85c91-c1cd-4d83-be6e-a5f121aa311b.png)"
   ]
  },
  {
   "cell_type": "markdown",
   "id": "thick-arrangement",
   "metadata": {},
   "source": [
    "- 매트리스 시놉시스를 summarize한 경우는 위와같이 정상적이게 나왔다.\n",
    "- ratio = 0.005로 요약을 해도 나왔고, words = 50으로 요약해도 정상작동했다."
   ]
  },
  {
   "attachments": {},
   "cell_type": "markdown",
   "id": "employed-slave",
   "metadata": {},
   "source": [
    "## 그렇다면 왜 요약이 안됐을까?\n",
    "1. 본문 내용을 하나하나 가져와서 summarize를 진행해도 똑같은 결과가 나온다. --> 코딩자체에 문제는 없음<br/>∴ text 본문 내용 자체가 짧기 때문이다.\n",
    "\n",
    "![image](https://user-images.githubusercontent.com/68802402/129716285-336a7b3e-a2b4-4ce2-acd2-5c962efc412a.png)매트리스 시놉시스 text 길이\n",
    "\n",
    "![image](https://user-images.githubusercontent.com/68802402/129717216-95b81827-514e-4951-9e6f-7f705945d6c0.png)뉴스기사 Text길이는 평균 251자\n",
    "\n"
   ]
  },
  {
   "cell_type": "markdown",
   "id": "domestic-patrol",
   "metadata": {},
   "source": [
    "## 해결방법?\n",
    "1. ratio를 높인다.\n",
    "2. text를 늘린다. --> 영어를 못하니 포기"
   ]
  },
  {
   "cell_type": "markdown",
   "id": "polish-printer",
   "metadata": {},
   "source": [
    "## 1.ratio를 높인다."
   ]
  },
  {
   "cell_type": "code",
   "execution_count": 330,
   "id": "absent-armor",
   "metadata": {},
   "outputs": [
    {
     "data": {
      "text/plain": [
       "'2        new zealand defeated india wickets fourth odi ...\\n3        aegon life iterm insurance plan customers enjo...\\n5        pakistani singer rahat fateh ali khan denied r...\\n9        congress candidate shafia zubair ramgarh assem...\\n98398    according reports new version science fiction ...'"
      ]
     },
     "execution_count": 330,
     "metadata": {},
     "output_type": "execute_result"
    }
   ],
   "source": [
    "summarize(str(data[\"Text\"]),ratio = 0.5)"
   ]
  },
  {
   "cell_type": "markdown",
   "id": "german-portable",
   "metadata": {},
   "source": [
    "* ratio를 높였지만 summarize가 가능한 문장이 그리 많지는 않은 것 같다."
   ]
  }
 ],
 "metadata": {
  "kernelspec": {
   "display_name": "Python 3",
   "language": "python",
   "name": "python3"
  },
  "language_info": {
   "codemirror_mode": {
    "name": "ipython",
    "version": 3
   },
   "file_extension": ".py",
   "mimetype": "text/x-python",
   "name": "python",
   "nbconvert_exporter": "python",
   "pygments_lexer": "ipython3",
   "version": "3.7.9"
  }
 },
 "nbformat": 4,
 "nbformat_minor": 5
}
