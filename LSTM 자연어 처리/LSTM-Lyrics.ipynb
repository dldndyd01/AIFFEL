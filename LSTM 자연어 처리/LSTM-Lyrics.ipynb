{
 "cells": [
  {
   "cell_type": "code",
   "execution_count": 16,
   "id": "defensive-continuity",
   "metadata": {},
   "outputs": [
    {
     "name": "stdout",
     "output_type": "stream",
     "text": [
      "데이터 크기: 187088\n",
      "(187088,)\n",
      "Examples:\n",
      " ['[Verse 1]', 'They come from everywhere', 'A longing to be free']\n"
     ]
    }
   ],
   "source": [
    "import os, re \n",
    "import numpy as np\n",
    "import tensorflow as tf\n",
    "import glob\n",
    "import os\n",
    "import numpy as np\n",
    "\n",
    "txt_file_path = os.getenv('HOME')+'/aiffel/lyricist/data/lyrics/*'\n",
    "\n",
    "txt_list = glob.glob(txt_file_path)\n",
    "\n",
    "raw_corpus = []\n",
    "\n",
    "# 여러개의 txt 파일을 모두 읽어서 raw_corpus 에 담습니다.\n",
    "for txt_file in txt_list:\n",
    "    with open(txt_file, \"r\") as f:\n",
    "        raw = f.read().splitlines()\n",
    "        raw_corpus.extend(raw)\n",
    "\n",
    "print(\"데이터 크기:\", len(raw_corpus))\n",
    "print(np.shape(raw_corpus))\n",
    "print(\"Examples:\\n\", raw_corpus[:3])"
   ]
  },
  {
   "cell_type": "code",
   "execution_count": 17,
   "id": "composed-redhead",
   "metadata": {},
   "outputs": [
    {
     "name": "stdout",
     "output_type": "stream",
     "text": [
      "[Verse 1]\n",
      "They come from everywhere\n",
      "A longing to be free\n",
      "They come to join us here\n",
      "From sea to shining sea And they all have a dream\n",
      "As people always will\n",
      "To be safe and warm\n",
      "In that shining city on the hill Some wanna slam the door\n",
      "Instead of opening the gate\n",
      "Aw, let's turn this thing around\n",
      "Before it gets too late [Chorus]\n"
     ]
    }
   ],
   "source": [
    "for idx, sentence in enumerate(raw_corpus):\n",
    "    if len(sentence) == 0: continue   # 길이가 0인 문장은 건너뜁니다.\n",
    "    if sentence[-1] == \":\": continue  # 문장의 끝이 : 인 문장은 건너뜁니다.\n",
    "#     if sentence.count(\" \") >= 14 : continue\n",
    "    if idx > 10: break   # 일단 문장 10개만 확인해 볼 겁니다.\n",
    "        \n",
    "    print(sentence)"
   ]
  },
  {
   "cell_type": "code",
   "execution_count": 18,
   "id": "technological-battery",
   "metadata": {},
   "outputs": [
    {
     "name": "stdout",
     "output_type": "stream",
     "text": [
      "<start> this is sample sentence . <end>\n"
     ]
    }
   ],
   "source": [
    "import re\n",
    "# 입력된 문장을\n",
    "#     1. 소문자로 바꾸고, 양쪽 공백을 지웁니다\n",
    "#     2. 특수문자 양쪽에 공백을 넣고\n",
    "#     3. 여러개의 공백은 하나의 공백으로 바꿉니다\n",
    "#     4. a-zA-Z?.!,¿가 아닌 모든 문자를 하나의 공백으로 바꿉니다\n",
    "#     5. 다시 양쪽 공백을 지웁니다\n",
    "#     6. 문장 시작에는 <start>, 끝에는 <end>를 추가합니다\n",
    "# 이 순서로 처리해주면 문제가 되는 상황을 방지할 수 있겠네요!\n",
    "def preprocess_sentence(sentence):\n",
    "    sentence = sentence.lower().strip() # 1\n",
    "    sentence = re.sub(r\"([?.!,¿])\", r\" \\1 \", sentence) # 2\n",
    "    sentence = re.sub(r'[\" \"]+', \" \", sentence) # 3\n",
    "    sentence = re.sub(r\"[^a-zA-Z?.!,¿]+\", \" \", sentence) # 4\n",
    "    sentence = sentence.strip() # 5\n",
    "    sentence = '<start> ' + sentence + ' <end>' # 6\n",
    "    return sentence\n",
    "\n",
    "# 이 문장이 어떻게 필터링되는지 확인해 보세요.\n",
    "print(preprocess_sentence(\"This @_is ;;;sample        sentence.\"))"
   ]
  },
  {
   "cell_type": "code",
   "execution_count": 19,
   "id": "moving-valentine",
   "metadata": {},
   "outputs": [
    {
     "name": "stdout",
     "output_type": "stream",
     "text": [
      "['<start> verse <end>', '<start> they come from everywhere <end>', '<start> a longing to be free <end>', '<start> they come to join us here <end>', '<start> from sea to shining sea and they all have a dream <end>', '<start> as people always will <end>', '<start> to be safe and warm <end>', '<start> instead of opening the gate <end>', '<start> aw , let s turn this thing around <end>', '<start> before it gets too late chorus <end>']\n",
      "151260\n"
     ]
    }
   ],
   "source": [
    "# 여기에 정제된 문장을 모을겁니다\n",
    "corpus = []\n",
    "\n",
    "for sentence in raw_corpus:\n",
    "    # 우리가 원하지 않는 문장은 건너뜁니다\n",
    "    if len(sentence) == 0: continue\n",
    "    if sentence[-1] == \":\": continue\n",
    "    if sentence.count(\" \") > 10: continue\n",
    "\n",
    "    # 정제를 하고 담아주세요\n",
    "    preprocessed_sentence = preprocess_sentence(sentence)\n",
    "    corpus.append(preprocessed_sentence)\n",
    "        \n",
    "# 정제된 결과를 10개만 확인해보죠\n",
    "print(corpus[:10])\n",
    "print(len(corpus))"
   ]
  },
  {
   "cell_type": "code",
   "execution_count": 20,
   "id": "adult-basic",
   "metadata": {},
   "outputs": [
    {
     "name": "stdout",
     "output_type": "stream",
     "text": [
      "[[   2  492    3 ...    0    0    0]\n",
      " [   2   43   64 ...    0    0    0]\n",
      " [   2    9 2967 ...    0    0    0]\n",
      " ...\n",
      " [   2  558   20 ...    0    0    0]\n",
      " [   2  121   36 ...    0    0    0]\n",
      " [   2    5   23 ...    0    0    0]] <keras_preprocessing.text.Tokenizer object at 0x7f8f8eb60e90>\n"
     ]
    }
   ],
   "source": [
    "# 토큰화 할 때 텐서플로우의 Tokenizer와 pad_sequences를 사용합니다\n",
    "# 더 잘 알기 위해 아래 문서들을 참고하면 좋습니다\n",
    "# https://www.tensorflow.org/api_docs/python/tf/keras/preprocessing/text/Tokenizer\n",
    "# https://www.tensorflow.org/api_docs/python/tf/keras/preprocessing/sequence/pad_sequences\n",
    "def tokenize(corpus):\n",
    "    # 7000단어를 기억할 수 있는 tokenizer를 만들겁니다\n",
    "    # 우리는 이미 문장을 정제했으니 filters가 필요없어요\n",
    "    # 7000단어에 포함되지 못한 단어는 '<unk>'로 바꿀거에요\n",
    "    tokenizer = tf.keras.preprocessing.text.Tokenizer(\n",
    "        num_words=20000, \n",
    "        filters=' ',\n",
    "        oov_token=\"<unk>\"\n",
    "    )\n",
    "    # corpus를 이용해 tokenizer 내부의 단어장을 완성합니다\n",
    "    tokenizer.fit_on_texts(corpus)\n",
    "    # 준비한 tokenizer를 이용해 corpus를 Tensor로 변환합니다\n",
    "    tensor = tokenizer.texts_to_sequences(corpus)   \n",
    "    # 입력 데이터의 시퀀스 길이를 일정하게 맞춰줍니다\n",
    "    # 만약 시퀀스가 짧다면 문장 뒤에 패딩을 붙여 길이를 맞춰줍니다.\n",
    "    # 문장 앞에 패딩을 붙여 길이를 맞추고 싶다면 padding='pre'를 사용합니다\n",
    "    tensor = tf.keras.preprocessing.sequence.pad_sequences(tensor, padding='post',maxlen=15)  \n",
    "    \n",
    "    print(tensor,tokenizer)\n",
    "    return tensor, tokenizer\n",
    "\n",
    "tensor, tokenizer = tokenize(corpus)"
   ]
  },
  {
   "cell_type": "code",
   "execution_count": 21,
   "id": "located-temple",
   "metadata": {},
   "outputs": [
    {
     "name": "stdout",
     "output_type": "stream",
     "text": [
      "[[   2  492    3    0    0    0    0    0    0    0]\n",
      " [   2   43   64   73  706    3    0    0    0    0]\n",
      " [   2    9 2967   10   27  263    3    0    0    0]]\n",
      "[  2 492   3   0   0   0   0   0   0   0   0   0   0   0   0]\n"
     ]
    }
   ],
   "source": [
    "print(tensor[:3, :10])\n",
    "print(tensor[0])"
   ]
  },
  {
   "cell_type": "code",
   "execution_count": 22,
   "id": "strong-findings",
   "metadata": {},
   "outputs": [
    {
     "name": "stdout",
     "output_type": "stream",
     "text": [
      "1 : <unk>\n",
      "2 : <start>\n",
      "3 : <end>\n",
      "4 : ,\n",
      "5 : i\n",
      "6 : the\n",
      "7 : you\n",
      "8 : and\n",
      "9 : a\n",
      "10 : to\n"
     ]
    }
   ],
   "source": [
    "for idx in tokenizer.index_word:\n",
    "    print(idx, \":\", tokenizer.index_word[idx])\n",
    "\n",
    "    if idx >= 10: break\n",
    "        "
   ]
  },
  {
   "cell_type": "markdown",
   "id": "turkish-frequency",
   "metadata": {},
   "source": [
    "* 모든 문장이 2로 시작하는 이유를 이걸로 알 수 있음"
   ]
  },
  {
   "cell_type": "code",
   "execution_count": 23,
   "id": "romance-thumbnail",
   "metadata": {},
   "outputs": [
    {
     "name": "stdout",
     "output_type": "stream",
     "text": [
      "(151260, 15)\n",
      "[[   2  492    3 ...    0    0    0]\n",
      " [   2   43   64 ...    0    0    0]\n",
      " [   2    9 2967 ...    0    0    0]\n",
      " ...\n",
      " [   2  558   20 ...    0    0    0]\n",
      " [   2  121   36 ...    0    0    0]\n",
      " [   2    5   23 ...    0    0    0]]\n",
      "\n",
      "[  2 492   3   0   0   0   0   0   0   0   0   0   0   0]\n",
      "[492   3   0   0   0   0   0   0   0   0   0   0   0   0]\n"
     ]
    }
   ],
   "source": [
    "from sklearn.model_selection import train_test_split\n",
    "\n",
    "# tensor에서 마지막 토큰을 잘라내서 소스 문장을 생성합니다\n",
    "# 마지막 토큰은 <end>가 아니라 <pad>일 가능성이 높습니다.\n",
    "src_input = tensor[:, :-1]  \n",
    "# tensor에서 <start>를 잘라내서 타겟 문장을 생성합니다.\n",
    "tgt_input = tensor[:, 1:]    \n",
    "\n",
    "print(np.shape(tensor))\n",
    "print(tensor)\n",
    "print()\n",
    "print(src_input[0])\n",
    "print(tgt_input[0])\n",
    "\n",
    "\n",
    "enc_train, enc_val, dec_train, dec_val = train_test_split(src_input, tgt_input, test_size=0.2, shuffle = True)"
   ]
  },
  {
   "cell_type": "code",
   "execution_count": 24,
   "id": "separate-biotechnology",
   "metadata": {},
   "outputs": [
    {
     "name": "stdout",
     "output_type": "stream",
     "text": [
      "Source Train: (121008, 14)\n",
      "Target Train: (121008, 14)\n"
     ]
    }
   ],
   "source": [
    "print(\"Source Train:\", enc_train.shape)\n",
    "print(\"Target Train:\", dec_train.shape)"
   ]
  },
  {
   "cell_type": "code",
   "execution_count": 25,
   "id": "southwest-bridges",
   "metadata": {},
   "outputs": [
    {
     "name": "stdout",
     "output_type": "stream",
     "text": [
      "<BatchDataset shapes: ((256, 14), (256, 14)), types: (tf.int32, tf.int32)>\n"
     ]
    }
   ],
   "source": [
    "BUFFER_SIZE = len(src_input)\n",
    "BATCH_SIZE = 256\n",
    "steps_per_epoch = len(src_input) // BATCH_SIZE\n",
    "\n",
    " # tokenizer가 구축한 단어사전 내 7000개와, 여기 포함되지 않은 0:<pad>를 포함하여 7001개\n",
    "VOCAB_SIZE = tokenizer.num_words + 1   \n",
    "\n",
    "# 준비한 데이터 소스로부터 데이터셋을 만듭니다\n",
    "# 데이터셋에 대해서는 아래 문서를 참고하세요\n",
    "# 자세히 알아둘수록 도움이 많이 되는 중요한 문서입니다\n",
    "# https://www.tensorflow.org/api_docs/python/tf/data/Dataset\n",
    "dataset = tf.data.Dataset.from_tensor_slices((src_input, tgt_input))\n",
    "dataset = dataset.shuffle(BUFFER_SIZE)\n",
    "dataset = dataset.batch(BATCH_SIZE, drop_remainder=True)\n",
    "print(dataset)"
   ]
  },
  {
   "cell_type": "code",
   "execution_count": 26,
   "id": "personalized-month",
   "metadata": {},
   "outputs": [],
   "source": [
    "class TextGenerator(tf.keras.Model):\n",
    "    def __init__(self, vocab_size, embedding_size, hidden_size):\n",
    "        super().__init__()\n",
    "        \n",
    "        self.embedding = tf.keras.layers.Embedding(vocab_size, embedding_size)\n",
    "        self.rnn_1 = tf.keras.layers.LSTM(hidden_size, return_sequences=True)\n",
    "        self.rnn_2 = tf.keras.layers.LSTM(hidden_size, return_sequences=True)\n",
    "        self.linear = tf.keras.layers.Dense(vocab_size)\n",
    "        \n",
    "    def call(self, x):\n",
    "        out = self.embedding(x)\n",
    "        out = self.rnn_1(out)\n",
    "        out = self.rnn_2(out)\n",
    "        out = self.linear(out)\n",
    "        \n",
    "        return out\n",
    "    \n",
    "embedding_size = 256\n",
    "hidden_size = 1024\n",
    "model = TextGenerator(tokenizer.num_words + 1, embedding_size , hidden_size)"
   ]
  },
  {
   "cell_type": "markdown",
   "id": "dedicated-finish",
   "metadata": {},
   "source": [
    "* 우리가 만들 모델에는 1개의 Embedding 레이어, 2개의 LSTM 레이어, 1개의 Dense 레이어로 구성되어 있습니다."
   ]
  },
  {
   "cell_type": "code",
   "execution_count": 27,
   "id": "attended-richards",
   "metadata": {},
   "outputs": [],
   "source": [
    "class TextGenerator(tf.keras.Model):\n",
    "    def __init__(self, vocab_size, embedding_size, hidden_size):\n",
    "        super().__init__()\n",
    "        \n",
    "        self.embedding = tf.keras.layers.Embedding(vocab_size, embedding_size)\n",
    "        self.rnn_1 = tf.keras.layers.LSTM(hidden_size, return_sequences=True)\n",
    "        self.rnn_2 = tf.keras.layers.LSTM(hidden_size, return_sequences=True)\n",
    "        self.linear = tf.keras.layers.Dense(vocab_size)\n",
    "        \n",
    "    def call(self, x):\n",
    "        out = self.embedding(x)\n",
    "        out = self.rnn_1(out)\n",
    "        out = self.rnn_2(out)\n",
    "        out = self.linear(out)\n",
    "        \n",
    "        return out\n",
    "    \n",
    "embedding_size = 256\n",
    "hidden_size = 1024\n",
    "model = TextGenerator(tokenizer.num_words + 1, embedding_size , hidden_size)"
   ]
  },
  {
   "cell_type": "code",
   "execution_count": 28,
   "id": "hybrid-publicity",
   "metadata": {},
   "outputs": [
    {
     "data": {
      "text/plain": [
       "<tf.Tensor: shape=(256, 14, 20001), dtype=float32, numpy=\n",
       "array([[[-2.51589900e-05, -5.69845106e-05, -1.21771387e-04, ...,\n",
       "         -1.29070206e-04,  4.07463340e-05, -6.32528245e-05],\n",
       "        [-3.39247454e-05, -1.94842039e-04, -1.96926339e-04, ...,\n",
       "         -2.54112791e-04,  1.61474691e-05, -2.90521886e-04],\n",
       "        [ 1.66235586e-05, -1.50860549e-04, -1.74869274e-05, ...,\n",
       "         -4.46495396e-04, -1.55285656e-04, -4.58505878e-04],\n",
       "        ...,\n",
       "        [ 7.98265566e-04,  5.34281018e-04,  7.45067198e-04, ...,\n",
       "          1.12606189e-03, -3.96258874e-05, -1.22129830e-04],\n",
       "        [ 8.68132338e-04,  3.72105598e-04,  9.77526302e-04, ...,\n",
       "          1.73568737e-03,  9.35570142e-07, -2.84450449e-04],\n",
       "        [ 9.17812809e-04,  2.28051387e-04,  1.15938811e-03, ...,\n",
       "          2.29272596e-03,  5.71142009e-05, -4.50045802e-04]],\n",
       "\n",
       "       [[-2.51589900e-05, -5.69845106e-05, -1.21771387e-04, ...,\n",
       "         -1.29070206e-04,  4.07463340e-05, -6.32528245e-05],\n",
       "        [-8.91419113e-05, -5.77505234e-05,  4.03593867e-06, ...,\n",
       "         -2.17344335e-04,  2.15004751e-04, -1.33313370e-04],\n",
       "        [-1.69376974e-04,  1.05287574e-04,  1.73805252e-04, ...,\n",
       "         -1.96258494e-04,  5.30489720e-04, -3.95347830e-04],\n",
       "        ...,\n",
       "        [ 2.54910963e-04, -1.30399407e-04,  1.24681508e-03, ...,\n",
       "         -4.58148075e-04, -1.81618059e-04,  8.16474960e-04],\n",
       "        [ 5.75776328e-04, -4.28308886e-05,  1.24178710e-03, ...,\n",
       "         -3.48989997e-04, -2.74781341e-04,  7.58507638e-04],\n",
       "        [ 8.17872933e-04, -8.59664578e-05,  1.38044043e-03, ...,\n",
       "          1.16854080e-05, -3.32905474e-04,  6.48204703e-04]],\n",
       "\n",
       "       [[-2.51589900e-05, -5.69845106e-05, -1.21771387e-04, ...,\n",
       "         -1.29070206e-04,  4.07463340e-05, -6.32528245e-05],\n",
       "        [-1.09224835e-04,  5.40745459e-05, -1.44366873e-04, ...,\n",
       "         -7.55222718e-05, -1.00647376e-04, -1.10918430e-04],\n",
       "        [-4.53119894e-04,  1.41913857e-04, -1.38996926e-04, ...,\n",
       "         -4.13589296e-05, -2.16466564e-04, -2.86231480e-05],\n",
       "        ...,\n",
       "        [ 1.17768790e-03, -2.04827429e-05,  1.15947402e-03, ...,\n",
       "          3.02838860e-03,  9.20864841e-06, -6.26858498e-04],\n",
       "        [ 1.21274940e-03, -9.39946767e-05,  1.25281443e-03, ...,\n",
       "          3.39355017e-03,  7.79871334e-05, -7.65182020e-04],\n",
       "        [ 1.22932123e-03, -1.45605460e-04,  1.32585119e-03, ...,\n",
       "          3.70350853e-03,  1.36252595e-04, -8.93563963e-04]],\n",
       "\n",
       "       ...,\n",
       "\n",
       "       [[-2.51589900e-05, -5.69845106e-05, -1.21771387e-04, ...,\n",
       "         -1.29070206e-04,  4.07463340e-05, -6.32528245e-05],\n",
       "        [ 2.74349677e-05, -2.60138477e-04, -2.61857094e-05, ...,\n",
       "         -2.81412853e-04, -1.67219245e-04,  1.13679045e-04],\n",
       "        [ 6.72193637e-05, -5.88162744e-04, -7.37931987e-05, ...,\n",
       "         -1.80978604e-04, -9.78006428e-05,  2.03968375e-04],\n",
       "        ...,\n",
       "        [ 6.61331462e-04, -6.08176750e-04,  1.11554563e-03, ...,\n",
       "          2.38573714e-03,  2.70223070e-04, -6.46541521e-05],\n",
       "        [ 7.36061949e-04, -6.60557707e-04,  1.25328277e-03, ...,\n",
       "          2.86554755e-03,  3.32392316e-04, -2.31165017e-04],\n",
       "        [ 7.98909285e-04, -6.85487641e-04,  1.35551288e-03, ...,\n",
       "          3.28106945e-03,  3.84334387e-04, -3.95727955e-04]],\n",
       "\n",
       "       [[-2.51589900e-05, -5.69845106e-05, -1.21771387e-04, ...,\n",
       "         -1.29070206e-04,  4.07463340e-05, -6.32528245e-05],\n",
       "        [-5.86307979e-05,  2.28112349e-05, -3.37144651e-04, ...,\n",
       "         -1.66475336e-04,  1.91767860e-04, -1.05431267e-04],\n",
       "        [-9.57969241e-05,  2.94730038e-04, -5.68480871e-04, ...,\n",
       "         -8.08818222e-05,  1.49815838e-04, -1.38726566e-04],\n",
       "        ...,\n",
       "        [ 5.16415981e-04,  1.22488115e-03,  3.15964891e-04, ...,\n",
       "          2.26858174e-04, -2.60527231e-05, -8.05899326e-05],\n",
       "        [ 6.94754184e-04,  1.00468914e-03,  6.42302795e-04, ...,\n",
       "          7.54482404e-04,  1.17396912e-05, -1.61402975e-04],\n",
       "        [ 8.36665800e-04,  7.79221416e-04,  9.00811574e-04, ...,\n",
       "          1.32131553e-03,  6.56923221e-05, -2.61091656e-04]],\n",
       "\n",
       "       [[-2.51589900e-05, -5.69845106e-05, -1.21771387e-04, ...,\n",
       "         -1.29070206e-04,  4.07463340e-05, -6.32528245e-05],\n",
       "        [-1.42227800e-04, -6.32362789e-05, -1.91811021e-04, ...,\n",
       "         -1.43633675e-04,  1.86953388e-04,  2.39850760e-05],\n",
       "        [-4.23162972e-04,  1.13507551e-04, -1.91414598e-04, ...,\n",
       "         -4.64515149e-04,  2.40302543e-05,  3.22035885e-05],\n",
       "        ...,\n",
       "        [ 7.64883589e-04,  9.70631372e-04, -7.73358188e-05, ...,\n",
       "         -6.60220976e-04, -4.11293877e-04,  4.80216666e-04],\n",
       "        [ 9.80150304e-04,  1.15613977e-03, -4.39091345e-05, ...,\n",
       "         -5.98320912e-04, -5.16761735e-04,  4.52030421e-04],\n",
       "        [ 1.17451965e-03,  1.08998339e-03,  2.18605841e-04, ...,\n",
       "         -2.30234800e-04, -5.39469882e-04,  3.44062311e-04]]],\n",
       "      dtype=float32)>"
      ]
     },
     "execution_count": 28,
     "metadata": {},
     "output_type": "execute_result"
    }
   ],
   "source": [
    "# 데이터셋에서 데이터 한 배치만 불러오는 방법입니다.\n",
    "# 지금은 동작 원리에 너무 빠져들지 마세요~\n",
    "for src_sample, tgt_sample in dataset.take(1): break\n",
    "\n",
    "# 한 배치만 불러온 데이터를 모델에 넣어봅니다\n",
    "model(src_sample)"
   ]
  },
  {
   "cell_type": "markdown",
   "id": "ceramic-identification",
   "metadata": {},
   "source": [
    "* shape=(256, 20, 7001) 7001개의 단어인 이유\n",
    "    1. 256 : 배치사이즈\n",
    "    2. 20 : return_sequences=True에서  입력된 시퀀스의 길이만큼 동일한 길이의 시퀀스를 출력\n",
    "    3. 7001 : 7000개의 단어 + \\\"\\<unk>\""
   ]
  },
  {
   "cell_type": "code",
   "execution_count": 29,
   "id": "sexual-velvet",
   "metadata": {},
   "outputs": [
    {
     "name": "stdout",
     "output_type": "stream",
     "text": [
      "Model: \"text_generator_1\"\n",
      "_________________________________________________________________\n",
      "Layer (type)                 Output Shape              Param #   \n",
      "=================================================================\n",
      "embedding_1 (Embedding)      multiple                  5120256   \n",
      "_________________________________________________________________\n",
      "lstm_2 (LSTM)                multiple                  5246976   \n",
      "_________________________________________________________________\n",
      "lstm_3 (LSTM)                multiple                  8392704   \n",
      "_________________________________________________________________\n",
      "dense_1 (Dense)              multiple                  20501025  \n",
      "=================================================================\n",
      "Total params: 39,260,961\n",
      "Trainable params: 39,260,961\n",
      "Non-trainable params: 0\n",
      "_________________________________________________________________\n"
     ]
    }
   ],
   "source": [
    "model.summary()"
   ]
  },
  {
   "cell_type": "code",
   "execution_count": 31,
   "id": "federal-quest",
   "metadata": {},
   "outputs": [
    {
     "name": "stdout",
     "output_type": "stream",
     "text": [
      "Epoch 1/15\n",
      "590/590 [==============================] - 247s 415ms/step - loss: 3.5625\n",
      "Epoch 2/15\n",
      "590/590 [==============================] - 248s 420ms/step - loss: 2.8245\n",
      "Epoch 3/15\n",
      "590/590 [==============================] - 250s 423ms/step - loss: 2.5247\n",
      "Epoch 4/15\n",
      "590/590 [==============================] - 250s 424ms/step - loss: 2.2790\n",
      "Epoch 5/15\n",
      "590/590 [==============================] - 250s 423ms/step - loss: 2.0748\n",
      "Epoch 6/15\n",
      "590/590 [==============================] - 251s 425ms/step - loss: 1.8961\n",
      "Epoch 7/15\n",
      "590/590 [==============================] - 250s 424ms/step - loss: 1.7348\n",
      "Epoch 8/15\n",
      "590/590 [==============================] - 250s 423ms/step - loss: 1.5872\n",
      "Epoch 9/15\n",
      "590/590 [==============================] - 250s 423ms/step - loss: 1.4593\n",
      "Epoch 10/15\n",
      "590/590 [==============================] - 250s 423ms/step - loss: 1.3474\n",
      "Epoch 11/15\n",
      "590/590 [==============================] - 250s 423ms/step - loss: 1.2531\n",
      "Epoch 12/15\n",
      "590/590 [==============================] - 248s 421ms/step - loss: 1.1779\n",
      "Epoch 13/15\n",
      "590/590 [==============================] - 248s 420ms/step - loss: 1.1196\n",
      "Epoch 14/15\n",
      "590/590 [==============================] - 248s 421ms/step - loss: 1.0680\n",
      "Epoch 15/15\n",
      "590/590 [==============================] - 248s 420ms/step - loss: 1.0309\n"
     ]
    },
    {
     "data": {
      "text/plain": [
       "<tensorflow.python.keras.callbacks.History at 0x7f8f8e0aad10>"
      ]
     },
     "execution_count": 31,
     "metadata": {},
     "output_type": "execute_result"
    }
   ],
   "source": [
    "# optimizer와 loss등은 차차 배웁니다\n",
    "# 혹시 미리 알고 싶다면 아래 문서를 참고하세요\n",
    "# https://www.tensorflow.org/api_docs/python/tf/keras/optimizers\n",
    "# https://www.tensorflow.org/api_docs/python/tf/keras/losses\n",
    "# 양이 상당히 많은 편이니 지금 보는 것은 추천하지 않습니다\n",
    "optimizer = tf.keras.optimizers.Adam()\n",
    "loss = tf.keras.losses.SparseCategoricalCrossentropy(\n",
    "    from_logits=True, reduction='none')\n",
    "\n",
    "\n",
    "model.compile(loss=loss, optimizer=optimizer)\n",
    "model.fit(dataset, epochs=15)"
   ]
  },
  {
   "cell_type": "code",
   "execution_count": 32,
   "id": "occasional-recycling",
   "metadata": {},
   "outputs": [],
   "source": [
    "def generate_text(model, tokenizer, init_sentence=\"<start>\", max_len=20):\n",
    "    # 테스트를 위해서 입력받은 init_sentence도 텐서로 변환합니다\n",
    "    test_input = tokenizer.texts_to_sequences([init_sentence])\n",
    "    test_tensor = tf.convert_to_tensor(test_input, dtype=tf.int64)\n",
    "    end_token = tokenizer.word_index[\"<end>\"]\n",
    "\n",
    "    # 단어 하나씩 예측해 문장을 만듭니다\n",
    "    #    1. 입력받은 문장의 텐서를 입력합니다\n",
    "    #    2. 예측된 값 중 가장 높은 확률인 word index를 뽑아냅니다\n",
    "    #    3. 2에서 예측된 word index를 문장 뒤에 붙입니다\n",
    "    #    4. 모델이 <end>를 예측했거나, max_len에 도달했다면 문장 생성을 마칩니다\n",
    "    while True:\n",
    "        # 1\n",
    "        predict = model(test_tensor) \n",
    "        # 2\n",
    "        predict_word = tf.argmax(tf.nn.softmax(predict, axis=-1), axis=-1)[:, -1] \n",
    "        # 3 \n",
    "        test_tensor = tf.concat([test_tensor, tf.expand_dims(predict_word, axis=0)], axis=-1)\n",
    "        # 4\n",
    "        if predict_word.numpy()[0] == end_token: break\n",
    "        if test_tensor.shape[1] >= max_len: break\n",
    "\n",
    "    generated = \"\"\n",
    "    # tokenizer를 이용해 word index를 단어로 하나씩 변환합니다 \n",
    "    for word_index in test_tensor[0].numpy():\n",
    "        generated += tokenizer.index_word[word_index] + \" \"\n",
    "\n",
    "    return generated"
   ]
  },
  {
   "cell_type": "code",
   "execution_count": 44,
   "id": "protective-private",
   "metadata": {},
   "outputs": [
    {
     "data": {
      "text/plain": [
       "'<start> i love you , <end> '"
      ]
     },
     "execution_count": 44,
     "metadata": {},
     "output_type": "execute_result"
    }
   ],
   "source": [
    "generate_text(model, tokenizer,  init_sentence=\"<start> i love\")"
   ]
  },
  {
   "cell_type": "code",
   "execution_count": null,
   "id": "pregnant-implement",
   "metadata": {},
   "outputs": [],
   "source": []
  },
  {
   "cell_type": "code",
   "execution_count": null,
   "id": "junior-arthur",
   "metadata": {},
   "outputs": [],
   "source": []
  }
 ],
 "metadata": {
  "kernelspec": {
   "display_name": "Python 3",
   "language": "python",
   "name": "python3"
  },
  "language_info": {
   "codemirror_mode": {
    "name": "ipython",
    "version": 3
   },
   "file_extension": ".py",
   "mimetype": "text/x-python",
   "name": "python",
   "nbconvert_exporter": "python",
   "pygments_lexer": "ipython3",
   "version": "3.7.9"
  }
 },
 "nbformat": 4,
 "nbformat_minor": 5
}
