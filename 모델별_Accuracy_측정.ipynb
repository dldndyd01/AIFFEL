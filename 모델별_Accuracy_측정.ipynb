{
  "nbformat": 4,
  "nbformat_minor": 0,
  "metadata": {
    "colab": {
      "name": "모델별 Accuracy 측정",
      "provenance": [],
      "collapsed_sections": [],
      "authorship_tag": "ABX9TyPDxKKUpJN+891+MFiiHfrO",
      "include_colab_link": true
    },
    "kernelspec": {
      "name": "python3",
      "display_name": "Python 3"
    },
    "language_info": {
      "name": "python"
    }
  },
  "cells": [
    {
      "cell_type": "markdown",
      "metadata": {
        "id": "view-in-github",
        "colab_type": "text"
      },
      "source": [
        "<a href=\"https://colab.research.google.com/github/dldndyd01/AIFFEL/blob/master/%EB%AA%A8%EB%8D%B8%EB%B3%84_Accuracy_%EC%B8%A1%EC%A0%95.ipynb\" target=\"_parent\"><img src=\"https://colab.research.google.com/assets/colab-badge.svg\" alt=\"Open In Colab\"/></a>"
      ]
    },
    {
      "cell_type": "code",
      "metadata": {
        "id": "EkPO-I3rfqjf"
      },
      "source": [
        "from sklearn.datasets import load_digits\n",
        "from sklearn.datasets import load_wine\n",
        "from sklearn.datasets import load_breast_cancer\n",
        "\n",
        "from sklearn.tree import DecisionTreeClassifier # Import Decision Tree Classifier\n",
        "from sklearn.ensemble import RandomForestClassifier\n",
        "from sklearn import svm\n",
        "from sklearn.linear_model import SGDClassifier\n",
        "from sklearn.linear_model import LogisticRegression\n",
        "\n",
        "from sklearn.model_selection import train_test_split\n",
        "from sklearn.metrics import classification_report\n",
        "import pandas as pd\n",
        "from sklearn import metrics"
      ],
      "execution_count": null,
      "outputs": []
    },
    {
      "cell_type": "markdown",
      "metadata": {
        "id": "jHaVa24liwh7"
      },
      "source": [
        "### Digits --> accuracy가 지표여야 함"
      ]
    },
    {
      "cell_type": "code",
      "metadata": {
        "colab": {
          "base_uri": "https://localhost:8080/"
        },
        "id": "Xtea4maJfwee",
        "outputId": "aa0e9227-b6f9-4855-98ec-d8a26ce5b8ff"
      },
      "source": [
        "digits = load_digits()\n",
        "X = digits.data\n",
        "Y = digits.target\n",
        "X_train, X_test, y_train, y_test = train_test_split(X, Y, test_size=0.2, random_state=15)\n",
        "\n",
        "# decision tree\n",
        "decision_tree = DecisionTreeClassifier(random_state=32)\n",
        "decision_tree = decision_tree.fit(X_train,y_train)\n",
        "y_pred_decision_tree = decision_tree.predict(X_test)\n",
        "# random forest\n",
        "random_forest = RandomForestClassifier(random_state = 32)\n",
        "random_forest = random_forest.fit(X_train,y_train)\n",
        "y_pred_random_forest = random_forest.predict(X_test)\n",
        "# svm\n",
        "support_vector_machine = svm.SVC()\n",
        "support_vector_machine = support_vector_machine.fit(X_train,y_train)\n",
        "y_pred_support_vector_machine = support_vector_machine.predict(X_test)\n",
        "# SGDClassifier\n",
        "SGD = SGDClassifier(random_state = 32)\n",
        "SGD = SGD.fit(X_train,y_train)\n",
        "y_pred_SGD = SGD.predict(X_test)\n",
        "# LogisticRegression\n",
        "Logistic_regresiion = LogisticRegression(random_state = 32)\n",
        "Logistic_regresiion = Logistic_regresiion.fit(X_train,y_train)\n",
        "y_pred_Logistic_regresiion = Logistic_regresiion.predict(X_test)\n",
        "\n",
        "print(\"손글씨\")\n",
        "print(\"Decision tree       --> \",\"Accuracy:\",metrics.accuracy_score(y_test, y_pred_decision_tree))\n",
        "print(classification_report(y_test, y_pred_decision_tree))\n",
        "print(\"Random Freset       --> \",\"Accuracy:\",metrics.accuracy_score(y_test, y_pred_random_forest))\n",
        "print(classification_report(y_test, y_pred_random_forest))\n",
        "print(\"SVM                 --> \",\"Accuracy:\",metrics.accuracy_score(y_test, y_pred_support_vector_machine))\n",
        "print(classification_report(y_test, y_pred_support_vector_machine))\n",
        "print(\"SGD                 --> \",\"Accuracy:\",metrics.accuracy_score(y_test, y_pred_SGD))\n",
        "print(classification_report(y_test, y_pred_SGD))\n",
        "print(\"Logistic regression --> \",\"Accuracy:\",metrics.accuracy_score(y_test, y_pred_Logistic_regresiion))\n",
        "print(classification_report(y_test, y_pred_Logistic_regresiion))"
      ],
      "execution_count": null,
      "outputs": [
        {
          "output_type": "stream",
          "text": [
            "손글씨\n",
            "Decision tree       -->  Accuracy: 0.8416666666666667\n",
            "              precision    recall  f1-score   support\n",
            "\n",
            "           0       1.00      0.94      0.97        31\n",
            "           1       0.82      0.82      0.82        38\n",
            "           2       0.72      0.87      0.79        38\n",
            "           3       0.85      0.81      0.83        27\n",
            "           4       0.97      0.78      0.86        41\n",
            "           5       0.82      0.89      0.85        35\n",
            "           6       0.85      0.89      0.87        38\n",
            "           7       0.91      0.91      0.91        34\n",
            "           8       0.74      0.74      0.74        35\n",
            "           9       0.83      0.79      0.81        43\n",
            "\n",
            "    accuracy                           0.84       360\n",
            "   macro avg       0.85      0.84      0.84       360\n",
            "weighted avg       0.85      0.84      0.84       360\n",
            "\n",
            "Random Freset       -->  Accuracy: 0.9777777777777777\n",
            "              precision    recall  f1-score   support\n",
            "\n",
            "           0       0.97      0.94      0.95        31\n",
            "           1       0.95      0.97      0.96        38\n",
            "           2       1.00      1.00      1.00        38\n",
            "           3       1.00      0.96      0.98        27\n",
            "           4       0.95      1.00      0.98        41\n",
            "           5       0.97      1.00      0.99        35\n",
            "           6       1.00      0.95      0.97        38\n",
            "           7       1.00      1.00      1.00        34\n",
            "           8       0.94      0.97      0.96        35\n",
            "           9       1.00      0.98      0.99        43\n",
            "\n",
            "    accuracy                           0.98       360\n",
            "   macro avg       0.98      0.98      0.98       360\n",
            "weighted avg       0.98      0.98      0.98       360\n",
            "\n",
            "SVM                 -->  Accuracy: 0.9833333333333333\n",
            "              precision    recall  f1-score   support\n",
            "\n",
            "           0       1.00      0.97      0.98        31\n",
            "           1       0.95      1.00      0.97        38\n",
            "           2       1.00      1.00      1.00        38\n",
            "           3       0.96      0.96      0.96        27\n",
            "           4       0.98      0.98      0.98        41\n",
            "           5       1.00      1.00      1.00        35\n",
            "           6       1.00      1.00      1.00        38\n",
            "           7       1.00      1.00      1.00        34\n",
            "           8       0.97      0.94      0.96        35\n",
            "           9       0.98      0.98      0.98        43\n",
            "\n",
            "    accuracy                           0.98       360\n",
            "   macro avg       0.98      0.98      0.98       360\n",
            "weighted avg       0.98      0.98      0.98       360\n",
            "\n",
            "SGD                 -->  Accuracy: 0.9361111111111111\n",
            "              precision    recall  f1-score   support\n",
            "\n",
            "           0       1.00      0.97      0.98        31\n",
            "           1       0.97      0.82      0.89        38\n",
            "           2       1.00      0.95      0.97        38\n",
            "           3       0.96      0.85      0.90        27\n",
            "           4       0.98      0.98      0.98        41\n",
            "           5       0.97      1.00      0.99        35\n",
            "           6       1.00      0.97      0.99        38\n",
            "           7       0.97      1.00      0.99        34\n",
            "           8       0.67      0.97      0.79        35\n",
            "           9       0.97      0.86      0.91        43\n",
            "\n",
            "    accuracy                           0.94       360\n",
            "   macro avg       0.95      0.94      0.94       360\n",
            "weighted avg       0.95      0.94      0.94       360\n",
            "\n",
            "Logistic regression -->  Accuracy: 0.975\n",
            "              precision    recall  f1-score   support\n",
            "\n",
            "           0       1.00      1.00      1.00        31\n",
            "           1       0.95      0.97      0.96        38\n",
            "           2       1.00      0.97      0.99        38\n",
            "           3       0.96      0.93      0.94        27\n",
            "           4       0.98      1.00      0.99        41\n",
            "           5       0.97      0.97      0.97        35\n",
            "           6       1.00      0.97      0.99        38\n",
            "           7       1.00      1.00      1.00        34\n",
            "           8       0.92      0.97      0.94        35\n",
            "           9       0.98      0.95      0.96        43\n",
            "\n",
            "    accuracy                           0.97       360\n",
            "   macro avg       0.98      0.97      0.97       360\n",
            "weighted avg       0.98      0.97      0.98       360\n",
            "\n"
          ],
          "name": "stdout"
        },
        {
          "output_type": "stream",
          "text": [
            "/usr/local/lib/python3.7/dist-packages/sklearn/linear_model/_logistic.py:940: ConvergenceWarning: lbfgs failed to converge (status=1):\n",
            "STOP: TOTAL NO. of ITERATIONS REACHED LIMIT.\n",
            "\n",
            "Increase the number of iterations (max_iter) or scale the data as shown in:\n",
            "    https://scikit-learn.org/stable/modules/preprocessing.html\n",
            "Please also refer to the documentation for alternative solver options:\n",
            "    https://scikit-learn.org/stable/modules/linear_model.html#logistic-regression\n",
            "  extra_warning_msg=_LOGISTIC_SOLVER_CONVERGENCE_MSG)\n"
          ],
          "name": "stderr"
        }
      ]
    },
    {
      "cell_type": "markdown",
      "metadata": {
        "id": "-rMAsPnli0CR"
      },
      "source": [
        "## Wine -> accuracy 값 사용하는 것이 합리적"
      ]
    },
    {
      "cell_type": "code",
      "metadata": {
        "colab": {
          "base_uri": "https://localhost:8080/"
        },
        "id": "ZNRnOrNigBHj",
        "outputId": "95df4475-7771-4a97-e7a3-638ac795bf9d"
      },
      "source": [
        "wine = load_wine()\n",
        "X = wine.data\n",
        "Y = wine.target\n",
        "X_train, X_test, y_train, y_test = train_test_split(X, Y, test_size=0.2, random_state=15)\n",
        "\n",
        "# decision tree\n",
        "decision_tree = DecisionTreeClassifier(random_state=32)\n",
        "decision_tree = decision_tree.fit(X_train,y_train)\n",
        "y_pred_decision_tree = decision_tree.predict(X_test)\n",
        "# random forest\n",
        "random_forest = RandomForestClassifier(random_state = 32)\n",
        "random_forest = random_forest.fit(X_train,y_train)\n",
        "y_pred_random_forest = random_forest.predict(X_test)\n",
        "# svm\n",
        "support_vector_machine = svm.SVC()\n",
        "support_vector_machine = support_vector_machine.fit(X_train,y_train)\n",
        "y_pred_support_vector_machine = support_vector_machine.predict(X_test)\n",
        "# SGDClassifier\n",
        "SGD = SGDClassifier(random_state = 32)\n",
        "SGD = SGD.fit(X_train,y_train)\n",
        "y_pred_SGD = SGD.predict(X_test)\n",
        "# LogisticRegression\n",
        "Logistic_regresiion = LogisticRegression(random_state = 32)\n",
        "Logistic_regresiion = Logistic_regresiion.fit(X_train,y_train)\n",
        "y_pred_Logistic_regresiion = Logistic_regresiion.predict(X_test)\n",
        "\n",
        "print(\"와인\")\n",
        "print(\"Decision tree       --> \",\"Accuracy:\",metrics.accuracy_score(y_test, y_pred_decision_tree))\n",
        "print(classification_report(y_test, y_pred_decision_tree))\n",
        "print(\"Random Freset       --> \",\"Accuracy:\",metrics.accuracy_score(y_test, y_pred_random_forest))\n",
        "print(classification_report(y_test, y_pred_random_forest))\n",
        "print(\"SVM                 --> \",\"Accuracy:\",metrics.accuracy_score(y_test, y_pred_support_vector_machine))\n",
        "print(classification_report(y_test, y_pred_support_vector_machine))\n",
        "print(\"SGD                 --> \",\"Accuracy:\",metrics.accuracy_score(y_test, y_pred_SGD))\n",
        "print(classification_report(y_test, y_pred_SGD))\n",
        "print(\"Logistic regression --> \",\"Accuracy:\",metrics.accuracy_score(y_test, y_pred_Logistic_regresiion))\n",
        "print(classification_report(y_test, y_pred_Logistic_regresiion))"
      ],
      "execution_count": null,
      "outputs": [
        {
          "output_type": "stream",
          "text": [
            "와인\n",
            "Decision tree       -->  Accuracy: 0.9166666666666666\n",
            "              precision    recall  f1-score   support\n",
            "\n",
            "           0       1.00      1.00      1.00        12\n",
            "           1       0.85      0.92      0.88        12\n",
            "           2       0.91      0.83      0.87        12\n",
            "\n",
            "    accuracy                           0.92        36\n",
            "   macro avg       0.92      0.92      0.92        36\n",
            "weighted avg       0.92      0.92      0.92        36\n",
            "\n",
            "Random Freset       -->  Accuracy: 1.0\n",
            "              precision    recall  f1-score   support\n",
            "\n",
            "           0       1.00      1.00      1.00        12\n",
            "           1       1.00      1.00      1.00        12\n",
            "           2       1.00      1.00      1.00        12\n",
            "\n",
            "    accuracy                           1.00        36\n",
            "   macro avg       1.00      1.00      1.00        36\n",
            "weighted avg       1.00      1.00      1.00        36\n",
            "\n",
            "SVM                 -->  Accuracy: 0.6111111111111112\n",
            "              precision    recall  f1-score   support\n",
            "\n",
            "           0       0.79      0.92      0.85        12\n",
            "           1       0.50      0.92      0.65        12\n",
            "           2       0.00      0.00      0.00        12\n",
            "\n",
            "    accuracy                           0.61        36\n",
            "   macro avg       0.43      0.61      0.50        36\n",
            "weighted avg       0.43      0.61      0.50        36\n",
            "\n",
            "SGD                 -->  Accuracy: 0.75\n",
            "              precision    recall  f1-score   support\n",
            "\n",
            "           0       0.73      0.92      0.81        12\n",
            "           1       0.80      0.67      0.73        12\n",
            "           2       0.73      0.67      0.70        12\n",
            "\n",
            "    accuracy                           0.75        36\n",
            "   macro avg       0.75      0.75      0.75        36\n",
            "weighted avg       0.75      0.75      0.75        36\n",
            "\n",
            "Logistic regression -->  Accuracy: 0.9444444444444444\n",
            "              precision    recall  f1-score   support\n",
            "\n",
            "           0       1.00      0.92      0.96        12\n",
            "           1       0.86      1.00      0.92        12\n",
            "           2       1.00      0.92      0.96        12\n",
            "\n",
            "    accuracy                           0.94        36\n",
            "   macro avg       0.95      0.94      0.95        36\n",
            "weighted avg       0.95      0.94      0.95        36\n",
            "\n"
          ],
          "name": "stdout"
        },
        {
          "output_type": "stream",
          "text": [
            "/usr/local/lib/python3.7/dist-packages/sklearn/linear_model/_logistic.py:940: ConvergenceWarning: lbfgs failed to converge (status=1):\n",
            "STOP: TOTAL NO. of ITERATIONS REACHED LIMIT.\n",
            "\n",
            "Increase the number of iterations (max_iter) or scale the data as shown in:\n",
            "    https://scikit-learn.org/stable/modules/preprocessing.html\n",
            "Please also refer to the documentation for alternative solver options:\n",
            "    https://scikit-learn.org/stable/modules/linear_model.html#logistic-regression\n",
            "  extra_warning_msg=_LOGISTIC_SOLVER_CONVERGENCE_MSG)\n",
            "/usr/local/lib/python3.7/dist-packages/sklearn/metrics/_classification.py:1272: UndefinedMetricWarning: Precision and F-score are ill-defined and being set to 0.0 in labels with no predicted samples. Use `zero_division` parameter to control this behavior.\n",
            "  _warn_prf(average, modifier, msg_start, len(result))\n"
          ],
          "name": "stderr"
        }
      ]
    },
    {
      "cell_type": "markdown",
      "metadata": {
        "id": "sOtGyQlMAE0Y"
      },
      "source": [
        "# Breast_cancer --> Recall값을 지표로 사용해야함. (오진을 하면 안되므로.)"
      ]
    },
    {
      "cell_type": "code",
      "metadata": {
        "colab": {
          "base_uri": "https://localhost:8080/"
        },
        "id": "ac11yOAJi5fy",
        "outputId": "81132045-8e67-4408-c28e-48c346e59a82"
      },
      "source": [
        "breast_cancer = load_breast_cancer()\n",
        "X = breast_cancer.data\n",
        "Y = breast_cancer.target\n",
        "X_train, X_test, y_train, y_test = train_test_split(X, Y, test_size=0.2, random_state=15)\n",
        "\n",
        "# decision tree\n",
        "decision_tree = DecisionTreeClassifier(random_state=32)\n",
        "decision_tree = decision_tree.fit(X_train,y_train)\n",
        "y_pred_decision_tree = decision_tree.predict(X_test)\n",
        "# random forest\n",
        "random_forest = RandomForestClassifier(random_state = 32)\n",
        "random_forest = random_forest.fit(X_train,y_train)\n",
        "y_pred_random_forest = random_forest.predict(X_test)\n",
        "# svm\n",
        "support_vector_machine = svm.SVC()\n",
        "support_vector_machine = support_vector_machine.fit(X_train,y_train)\n",
        "y_pred_support_vector_machine = support_vector_machine.predict(X_test)\n",
        "# SGDClassifier\n",
        "SGD = SGDClassifier(random_state = 32)\n",
        "SGD = SGD.fit(X_train,y_train)\n",
        "y_pred_SGD = SGD.predict(X_test)\n",
        "# LogisticRegression\n",
        "Logistic_regresiion = LogisticRegression(random_state = 32)\n",
        "Logistic_regresiion = Logistic_regresiion.fit(X_train,y_train)\n",
        "y_pred_Logistic_regresiion = Logistic_regresiion.predict(X_test)\n",
        "\n",
        "print(\"유방암\")\n",
        "print(\"Decision tree       --> \",\"Accuracy:\",metrics.accuracy_score(y_test, y_pred_decision_tree))\n",
        "print(classification_report(y_test, y_pred_decision_tree))\n",
        "print(\"Random Freset       --> \",\"Accuracy:\",metrics.accuracy_score(y_test, y_pred_random_forest))\n",
        "print(classification_report(y_test, y_pred_random_forest))\n",
        "print(\"SVM                 --> \",\"Accuracy:\",metrics.accuracy_score(y_test, y_pred_support_vector_machine))\n",
        "print(classification_report(y_test, y_pred_support_vector_machine))\n",
        "print(\"SGD                 --> \",\"Accuracy:\",metrics.accuracy_score(y_test, y_pred_SGD))\n",
        "print(classification_report(y_test, y_pred_SGD))\n",
        "print(\"Logistic regression --> \",\"Accuracy:\",metrics.accuracy_score(y_test, y_pred_Logistic_regresiion))\n",
        "print(classification_report(y_test, y_pred_Logistic_regresiion))"
      ],
      "execution_count": null,
      "outputs": [
        {
          "output_type": "stream",
          "text": [
            "유방암\n",
            "Decision tree       -->  Accuracy: 0.9473684210526315\n",
            "              precision    recall  f1-score   support\n",
            "\n",
            "           0       0.97      0.87      0.92        39\n",
            "           1       0.94      0.99      0.96        75\n",
            "\n",
            "    accuracy                           0.95       114\n",
            "   macro avg       0.95      0.93      0.94       114\n",
            "weighted avg       0.95      0.95      0.95       114\n",
            "\n",
            "Random Freset       -->  Accuracy: 0.9385964912280702\n",
            "              precision    recall  f1-score   support\n",
            "\n",
            "           0       0.94      0.87      0.91        39\n",
            "           1       0.94      0.97      0.95        75\n",
            "\n",
            "    accuracy                           0.94       114\n",
            "   macro avg       0.94      0.92      0.93       114\n",
            "weighted avg       0.94      0.94      0.94       114\n",
            "\n",
            "SVM                 -->  Accuracy: 0.868421052631579\n",
            "              precision    recall  f1-score   support\n",
            "\n",
            "           0       0.93      0.67      0.78        39\n",
            "           1       0.85      0.97      0.91        75\n",
            "\n",
            "    accuracy                           0.87       114\n",
            "   macro avg       0.89      0.82      0.84       114\n",
            "weighted avg       0.88      0.87      0.86       114\n",
            "\n",
            "SGD                 -->  Accuracy: 0.8421052631578947\n",
            "              precision    recall  f1-score   support\n",
            "\n",
            "           0       0.73      0.85      0.79        39\n",
            "           1       0.91      0.84      0.87        75\n",
            "\n",
            "    accuracy                           0.84       114\n",
            "   macro avg       0.82      0.84      0.83       114\n",
            "weighted avg       0.85      0.84      0.84       114\n",
            "\n",
            "Logistic regression -->  Accuracy: 0.8947368421052632\n",
            "              precision    recall  f1-score   support\n",
            "\n",
            "           0       0.85      0.85      0.85        39\n",
            "           1       0.92      0.92      0.92        75\n",
            "\n",
            "    accuracy                           0.89       114\n",
            "   macro avg       0.88      0.88      0.88       114\n",
            "weighted avg       0.89      0.89      0.89       114\n",
            "\n"
          ],
          "name": "stdout"
        },
        {
          "output_type": "stream",
          "text": [
            "/usr/local/lib/python3.7/dist-packages/sklearn/linear_model/_logistic.py:940: ConvergenceWarning: lbfgs failed to converge (status=1):\n",
            "STOP: TOTAL NO. of ITERATIONS REACHED LIMIT.\n",
            "\n",
            "Increase the number of iterations (max_iter) or scale the data as shown in:\n",
            "    https://scikit-learn.org/stable/modules/preprocessing.html\n",
            "Please also refer to the documentation for alternative solver options:\n",
            "    https://scikit-learn.org/stable/modules/linear_model.html#logistic-regression\n",
            "  extra_warning_msg=_LOGISTIC_SOLVER_CONVERGENCE_MSG)\n"
          ],
          "name": "stderr"
        }
      ]
    },
    {
      "cell_type": "markdown",
      "metadata": {
        "id": "WXasvb2O8HDq"
      },
      "source": [
        "# Wine 데이터셋 SVM모델에서 class2를 분류하지 못한 이유"
      ]
    },
    {
      "cell_type": "code",
      "metadata": {
        "colab": {
          "base_uri": "https://localhost:8080/"
        },
        "id": "nbtSQqWeyzaW",
        "outputId": "0c4a8df8-df96-418d-8034-7973bde0552b"
      },
      "source": [
        "!pip install mglearn"
      ],
      "execution_count": null,
      "outputs": [
        {
          "output_type": "stream",
          "text": [
            "Collecting mglearn\n",
            "\u001b[?25l  Downloading https://files.pythonhosted.org/packages/65/38/8aced26fce0b2ae82c3c87cd3b6105f38ca6d9d51704ecc44aa54473e6b9/mglearn-0.1.9.tar.gz (540kB)\n",
            "\r\u001b[K     |▋                               | 10kB 15.6MB/s eta 0:00:01\r\u001b[K     |█▏                              | 20kB 12.6MB/s eta 0:00:01\r\u001b[K     |█▉                              | 30kB 9.5MB/s eta 0:00:01\r\u001b[K     |██▍                             | 40kB 8.9MB/s eta 0:00:01\r\u001b[K     |███                             | 51kB 5.3MB/s eta 0:00:01\r\u001b[K     |███▋                            | 61kB 5.5MB/s eta 0:00:01\r\u001b[K     |████▎                           | 71kB 5.4MB/s eta 0:00:01\r\u001b[K     |████▉                           | 81kB 5.6MB/s eta 0:00:01\r\u001b[K     |█████▌                          | 92kB 5.5MB/s eta 0:00:01\r\u001b[K     |██████                          | 102kB 5.8MB/s eta 0:00:01\r\u001b[K     |██████▊                         | 112kB 5.8MB/s eta 0:00:01\r\u001b[K     |███████▎                        | 122kB 5.8MB/s eta 0:00:01\r\u001b[K     |███████▉                        | 133kB 5.8MB/s eta 0:00:01\r\u001b[K     |████████▌                       | 143kB 5.8MB/s eta 0:00:01\r\u001b[K     |█████████                       | 153kB 5.8MB/s eta 0:00:01\r\u001b[K     |█████████▊                      | 163kB 5.8MB/s eta 0:00:01\r\u001b[K     |██████████▎                     | 174kB 5.8MB/s eta 0:00:01\r\u001b[K     |███████████                     | 184kB 5.8MB/s eta 0:00:01\r\u001b[K     |███████████▌                    | 194kB 5.8MB/s eta 0:00:01\r\u001b[K     |████████████▏                   | 204kB 5.8MB/s eta 0:00:01\r\u001b[K     |████████████▊                   | 215kB 5.8MB/s eta 0:00:01\r\u001b[K     |█████████████▍                  | 225kB 5.8MB/s eta 0:00:01\r\u001b[K     |██████████████                  | 235kB 5.8MB/s eta 0:00:01\r\u001b[K     |██████████████▋                 | 245kB 5.8MB/s eta 0:00:01\r\u001b[K     |███████████████▏                | 256kB 5.8MB/s eta 0:00:01\r\u001b[K     |███████████████▊                | 266kB 5.8MB/s eta 0:00:01\r\u001b[K     |████████████████▍               | 276kB 5.8MB/s eta 0:00:01\r\u001b[K     |█████████████████               | 286kB 5.8MB/s eta 0:00:01\r\u001b[K     |█████████████████▋              | 296kB 5.8MB/s eta 0:00:01\r\u001b[K     |██████████████████▏             | 307kB 5.8MB/s eta 0:00:01\r\u001b[K     |██████████████████▉             | 317kB 5.8MB/s eta 0:00:01\r\u001b[K     |███████████████████▍            | 327kB 5.8MB/s eta 0:00:01\r\u001b[K     |████████████████████            | 337kB 5.8MB/s eta 0:00:01\r\u001b[K     |████████████████████▋           | 348kB 5.8MB/s eta 0:00:01\r\u001b[K     |█████████████████████▎          | 358kB 5.8MB/s eta 0:00:01\r\u001b[K     |█████████████████████▉          | 368kB 5.8MB/s eta 0:00:01\r\u001b[K     |██████████████████████▌         | 378kB 5.8MB/s eta 0:00:01\r\u001b[K     |███████████████████████         | 389kB 5.8MB/s eta 0:00:01\r\u001b[K     |███████████████████████▋        | 399kB 5.8MB/s eta 0:00:01\r\u001b[K     |████████████████████████▎       | 409kB 5.8MB/s eta 0:00:01\r\u001b[K     |████████████████████████▉       | 419kB 5.8MB/s eta 0:00:01\r\u001b[K     |█████████████████████████▌      | 430kB 5.8MB/s eta 0:00:01\r\u001b[K     |██████████████████████████      | 440kB 5.8MB/s eta 0:00:01\r\u001b[K     |██████████████████████████▊     | 450kB 5.8MB/s eta 0:00:01\r\u001b[K     |███████████████████████████▎    | 460kB 5.8MB/s eta 0:00:01\r\u001b[K     |████████████████████████████    | 471kB 5.8MB/s eta 0:00:01\r\u001b[K     |████████████████████████████▌   | 481kB 5.8MB/s eta 0:00:01\r\u001b[K     |█████████████████████████████▏  | 491kB 5.8MB/s eta 0:00:01\r\u001b[K     |█████████████████████████████▊  | 501kB 5.8MB/s eta 0:00:01\r\u001b[K     |██████████████████████████████▍ | 512kB 5.8MB/s eta 0:00:01\r\u001b[K     |███████████████████████████████ | 522kB 5.8MB/s eta 0:00:01\r\u001b[K     |███████████████████████████████▌| 532kB 5.8MB/s eta 0:00:01\r\u001b[K     |████████████████████████████████| 542kB 5.8MB/s \n",
            "\u001b[?25hRequirement already satisfied: numpy in /usr/local/lib/python3.7/dist-packages (from mglearn) (1.19.5)\n",
            "Requirement already satisfied: matplotlib in /usr/local/lib/python3.7/dist-packages (from mglearn) (3.2.2)\n",
            "Requirement already satisfied: scikit-learn in /usr/local/lib/python3.7/dist-packages (from mglearn) (0.22.2.post1)\n",
            "Requirement already satisfied: pandas in /usr/local/lib/python3.7/dist-packages (from mglearn) (1.1.5)\n",
            "Requirement already satisfied: pillow in /usr/local/lib/python3.7/dist-packages (from mglearn) (7.1.2)\n",
            "Requirement already satisfied: cycler in /usr/local/lib/python3.7/dist-packages (from mglearn) (0.10.0)\n",
            "Requirement already satisfied: imageio in /usr/local/lib/python3.7/dist-packages (from mglearn) (2.4.1)\n",
            "Requirement already satisfied: joblib in /usr/local/lib/python3.7/dist-packages (from mglearn) (1.0.1)\n",
            "Requirement already satisfied: kiwisolver>=1.0.1 in /usr/local/lib/python3.7/dist-packages (from matplotlib->mglearn) (1.3.1)\n",
            "Requirement already satisfied: pyparsing!=2.0.4,!=2.1.2,!=2.1.6,>=2.0.1 in /usr/local/lib/python3.7/dist-packages (from matplotlib->mglearn) (2.4.7)\n",
            "Requirement already satisfied: python-dateutil>=2.1 in /usr/local/lib/python3.7/dist-packages (from matplotlib->mglearn) (2.8.1)\n",
            "Requirement already satisfied: scipy>=0.17.0 in /usr/local/lib/python3.7/dist-packages (from scikit-learn->mglearn) (1.4.1)\n",
            "Requirement already satisfied: pytz>=2017.2 in /usr/local/lib/python3.7/dist-packages (from pandas->mglearn) (2018.9)\n",
            "Requirement already satisfied: six in /usr/local/lib/python3.7/dist-packages (from cycler->mglearn) (1.15.0)\n",
            "Building wheels for collected packages: mglearn\n",
            "  Building wheel for mglearn (setup.py) ... \u001b[?25l\u001b[?25hdone\n",
            "  Created wheel for mglearn: filename=mglearn-0.1.9-py2.py3-none-any.whl size=582638 sha256=4f7d6178aa72e65b8571154193063b0b3315f677c57ea861a656db0ccf8e0076\n",
            "  Stored in directory: /root/.cache/pip/wheels/eb/a6/ea/a6a3716233fa62fc561259b5cb1e28f79e9ff3592c0adac5f0\n",
            "Successfully built mglearn\n",
            "Installing collected packages: mglearn\n",
            "Successfully installed mglearn-0.1.9\n"
          ],
          "name": "stdout"
        }
      ]
    },
    {
      "cell_type": "code",
      "metadata": {
        "colab": {
          "base_uri": "https://localhost:8080/",
          "height": 496
        },
        "id": "yGcpb1dex1zG",
        "outputId": "c2ec1ff7-832c-45ec-c7a9-1921b1666ba0"
      },
      "source": [
        "import matplotlib.pyplot as plt\n",
        "from sklearn.datasets import load_iris\n",
        "from sklearn.model_selection import train_test_split\n",
        "from sklearn.svm import SVC\n",
        "import mglearn\n",
        "\n",
        "wine = load_wine()\n",
        "\n",
        "# 시각화를 위해서 sepal length와 width만 사용한다.\n",
        "X = wine[\"data\"][:, [0,2]]  \n",
        "Y = wine.target\n",
        "# train 데이터 세트와 test 데이터 세트를 구성한다.\n",
        "trainX, testX, trainY, testY = train_test_split(X, Y, test_size=0.2)\n",
        "\n",
        "# SVM으로 Train 데이터 세트를 학습한다.\n",
        "svm_linear = SVC(kernel = \"linear\",random_state = 10)\n",
        "svm_linear = svm_linear.fit(trainX, trainY)\n",
        "svm_default = SVC(random_state = 10)\n",
        "svm_default = svm_default.fit(trainX, trainY)\n",
        "\n",
        "# 시각화\n",
        "plt.figure(figsize=(10,8))\n",
        "plt.subplot(121)\n",
        "plt.title(\"linear\")\n",
        "plt.xlabel('Parameter 1')\n",
        "plt.ylabel('Parameter 2')\n",
        "mglearn.plots.plot_2d_classification(svm_linear, trainX, alpha=0.1)\n",
        "mglearn.discrete_scatter(trainX[:,0], trainX[:,1], trainY)\n",
        "plt.legend()\n",
        "plt.subplot(122)\n",
        "plt.title(\"rbf\")\n",
        "plt.xlabel('Parameter 1')\n",
        "plt.ylabel('Parameter 2')\n",
        "mglearn.plots.plot_2d_classification(svm_default, trainX, alpha=0.1)\n",
        "mglearn.discrete_scatter(trainX[:,0], trainX[:,1], trainY)\n",
        "plt.legend()\n",
        "\n",
        "plt.show()\n"
      ],
      "execution_count": null,
      "outputs": [
        {
          "output_type": "display_data",
          "data": {
            "image/png": "[encoded data removed]",
            "text/plain": [
              "<Figure size 720x576 with 2 Axes>"
            ]
          },
          "metadata": {
            "tags": []
          }
        }
      ]
    },
    {
      "cell_type": "markdown",
      "metadata": {
        "id": "oovfDGkw8RZp"
      },
      "source": [
        "* 적절한 함수 사용 필수\n",
        "* 주성분 시각화 후 분포를 직관적으로 이해하는 능력과 그에 따라 함수를 결정할 힘 필요"
      ]
    },
    {
      "cell_type": "code",
      "metadata": {
        "id": "7cNZc37o8a4a"
      },
      "source": [
        ""
      ],
      "execution_count": null,
      "outputs": []
    }
  ]
}